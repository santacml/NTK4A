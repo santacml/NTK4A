{
 "cells": [
  {
   "cell_type": "markdown",
   "metadata": {},
   "source": [
    "We will calculate the NTK of a Bidirectional RNN in this notebook."
   ]
  },
  {
   "cell_type": "code",
   "execution_count": 403,
   "metadata": {
    "ExecuteTime": {
     "end_time": "2020-06-17T20:58:21.854150Z",
     "start_time": "2020-06-17T20:58:20.614135Z"
    }
   },
   "outputs": [],
   "source": [
    "import numpy as np\n",
    "from tqdm import tqdm\n",
    "import torchvision\n",
    "import torchvision.transforms as transforms\n",
    "import matplotlib.pyplot as plt\n",
    "import pandas as pd\n",
    "import seaborn as sns\n",
    "sns.set()"
   ]
  },
  {
   "cell_type": "code",
   "execution_count": 404,
   "metadata": {
    "ExecuteTime": {
     "end_time": "2020-06-17T20:58:21.860504Z",
     "start_time": "2020-06-17T20:58:21.855846Z"
    }
   },
   "outputs": [],
   "source": [
    "from utils import clone_grads, paramdot, VErf3, VDerErf3"
   ]
  },
  {
   "cell_type": "markdown",
   "metadata": {},
   "source": [
    "A bidirectional RNN with scalar output at every time step evolves like\n",
    "\n",
    "$$\n",
    "\\begin{align*}\n",
    "\n",
    "s^t_f(\\xi_f) &= \\phi(g^t_f(\\xi_f) + u^t_f(\\xi_f) + b) \\\\\n",
    "g^t_f(\\xi_f) &= Ws^{t-1}_f(\\xi_f) \\\\\n",
    "u^t_f(\\xi_f) &= U\\xi^t_f \\\\\n",
    "\n",
    "s^t_b(\\xi_b) &= \\phi(g^t_b(\\xi_b) + u^t_b(\\xi_b) + b) \\\\\n",
    "g^t_b(\\xi_b) &= Ws^{t-1}_f(\\xi_b) \\\\\n",
    "u^t_b(\\xi_b) &= U\\xi^t_b \\\\\n",
    "\n",
    "\\end{align*}\n",
    "$$\n",
    "\n",
    "where\n",
    "\n",
    "- $\\xi^t_f \\in \\mathbb{R}^m$ is the input at time $t$ for forward inputs\n",
    "- $\\xi^t_b \\in \\mathbb{R}^m$ is the input at time $t$ for backward inputs\n",
    "- $g^t_f \\in \\mathbb{R}^n$ is the previous state of the RNN weighted by W for forward inputs\n",
    "- $g^t_b \\in \\mathbb{R}^n$ is the previous state of the RNN weighted by W for backward inputs\n",
    "- $s^t_f(\\xi) \\in \\mathbb{R}^n$ is the state of the RNN at time $t$ for forward inputs\n",
    "- $s^t_b(\\xi) \\in \\mathbb{R}^n$ is the state of the RNN at time $t$ for backward inputs\n",
    "- $W \\in \\mathbb{R}^{n \\times n}$ is the state-to-state weight matrix\n",
    "- $U \\in \\mathbb{R}^{n \\times m}$ is the input-to-state weight matrix\n",
    "- $b \\in \\mathbb{R}^n$ is the bias\n",
    "- $\\phi$ is the nonlinearity\n",
    "\n",
    "Simultaneously, two RNNs evolve with the same equations, but with the second using the input backwards. The two RNNs do not interact while calculating their output on each timestep independently.\n",
    "\n",
    "We abbreviate $s^t = s^t(\\xi)$ and $\\bar s^t = s^t(\\bar \\xi)$, and likewise for other vectors $g^t, u^t$.\n",
    "\n",
    "The final output can then be a variety of combinations of the two states of the RNNs. For this notebook, concatenation:\n",
    "\n",
    "$$\n",
    "\\begin{align*}\n",
    "        f(\\xi) &= \\langle v, \\frac{(s^T_f, s^T_b)}{\\sqrt{2n}}\\rangle\n",
    "\\end{align*}\n",
    "$$\n",
    "\n",
    "where \n",
    "\n",
    "- $v \\in \\mathbb{R}^{2n}$ is the readout weight\n",
    "- $f(\\xi) \\in \\mathbb{R}$ is the final output at time T\n",
    "\n",
    "and the output is over $\\sqrt{2n}$ because the output width has been doubled due to concatenation.\n",
    "    \n",
    "Typically, $\\phi = \\tanh$, but here, we will set $\\phi = \\mathrm{erf}$ because $\\mathrm{erf}$ is very similar to $\\tanh$ and it gives way to closed form expressions for the infinite-width limit."
   ]
  },
  {
   "cell_type": "markdown",
   "metadata": {},
   "source": [
    "For simplicity, suppose we sample\n",
    "\n",
    "- $W_{\\alpha \\beta} \\sim \\mathcal{N}(0, \\sigma^2_W / n)$\n",
    "- $U_{\\alpha \\beta} \\sim \\mathcal{N}(0, \\sigma^2_U / m)$\n",
    "- $b_\\alpha \\sim \\mathcal{N}(0, \\sigma^2_b )$\n",
    "- $v_\\alpha \\sim \\mathcal{N}(0, \\sigma^2_v )$"
   ]
  },
  {
   "cell_type": "markdown",
   "metadata": {
    "heading_collapsed": true
   },
   "source": [
    "# Finite-Width Neural Network"
   ]
  },
  {
   "cell_type": "code",
   "execution_count": 405,
   "metadata": {
    "ExecuteTime": {
     "end_time": "2020-06-17T20:58:21.896596Z",
     "start_time": "2020-06-17T20:58:21.862530Z"
    },
    "hidden": true
   },
   "outputs": [],
   "source": [
    "import torch\n",
    "import torch.nn as nn\n",
    "class BidirectionalRNNClassifier(nn.Module):\n",
    "    def __init__(self, indim, statedim, outdim=1, nonlin=torch.erf, varu=1, varw=1, varb=0, varv=1,\n",
    "                mergemode=\"concat\", debug=False):\n",
    "        super().__init__()\n",
    "        self.varu = varu\n",
    "        self.varw = varw\n",
    "        self.varb = varb\n",
    "        self.varv = varv\n",
    "        self.nonlin = nonlin\n",
    "        self.mergemode = mergemode\n",
    "        self.debug = debug\n",
    "        self.W = nn.Parameter(torch.randn(statedim, statedim))\n",
    "        self.U = nn.Parameter(torch.randn(indim, statedim))\n",
    "        self.b = nn.Parameter(torch.randn(statedim))\n",
    "        \n",
    "        vsize = statedim*2 if mergemode == \"concat\" else statedim\n",
    "        self.v = nn.Parameter(torch.randn(vsize, outdim))\n",
    "        self.randomize()\n",
    "        \n",
    "    def forward(self, inp, initstate=0):\n",
    "        '''\n",
    "        Input:\n",
    "            inp: (batchsize, seqlen, indim)\n",
    "        Output:\n",
    "            out: (batchsize, outdim)\n",
    "        '''\n",
    "        indim = self.U.shape[0]\n",
    "        statedim = self.U.shape[1]\n",
    "        embed = torch.einsum(\n",
    "            'ijk,kl->ijl', inp, self.U) / np.sqrt(indim) + self.b\n",
    "        seqlen = inp.shape[1]\n",
    "        statef = initstate\n",
    "        stateb = initstate\n",
    "        self._states = []\n",
    "        self.hs = []\n",
    "        for i in range(seqlen):\n",
    "            hf = embed[:, i] + statef\n",
    "            statef = self.nonlin(hf)\n",
    "            hb = embed[:, seqlen-1-i] + stateb\n",
    "            stateb = self.nonlin(hb)\n",
    "\n",
    "            self._states.append(torch.cat((statef, stateb),1))\n",
    "            if self.debug:\n",
    "                state.retain_grad()\n",
    "            # _states[i] = s^{i+1}\n",
    "                self.hs.append(h)\n",
    "            \n",
    "            if i < seqlen - 1:\n",
    "                statef = statef @ self.W / np.sqrt(statedim)\n",
    "                stateb = stateb @ self.W / np.sqrt(statedim)\n",
    "            else:\n",
    "                if self.mergemode == \"concat\":\n",
    "                    return torch.cat((statef, stateb),1) @ self.v / np.sqrt(statedim)\n",
    "                elif self.mergemode == \"sum\":\n",
    "                    return (statef+stateb) @ self.v / np.sqrt(statedim)\n",
    "                else:\n",
    "                    raise NotImplementedError()\n",
    "        \n",
    "    def randomize(self, varu=None, varw=None, varb=None, varv=None):\n",
    "        varu = varu or self.varu\n",
    "        varw = varw or self.varw\n",
    "        varb = varb or self.varb\n",
    "        varv = varv or self.varv\n",
    "        with torch.no_grad():\n",
    "            self.W.normal_(std=np.sqrt(varw))\n",
    "            self.U.normal_(std=np.sqrt(varu))\n",
    "            self.v.normal_(std=np.sqrt(varv))\n",
    "            if varb > 0:\n",
    "                self.b.normal_(std=np.sqrt(varb))\n",
    "            else:\n",
    "                self.b.zero_()"
   ]
  },
  {
   "cell_type": "code",
   "execution_count": 406,
   "metadata": {
    "ExecuteTime": {
     "end_time": "2020-06-17T20:58:21.923581Z",
     "start_time": "2020-06-17T20:58:21.898357Z"
    },
    "hidden": true
   },
   "outputs": [],
   "source": [
    "def simrnn_ntk(inputseqs, width, phi, varw=1, varu=1, varb=0, varv=1, seed=None, mergemode=\"concat\", debug=False):\n",
    "    if seed is not None:\n",
    "        torch.manual_seed(seed)\n",
    "    indim = inputseqs[0].shape[1]\n",
    "    rnn = BidirectionalRNNClassifier(indim, width, nonlin=phi,\n",
    "                              varw=varw, varu=varu, varb=varb, varv=varv,\n",
    "                              mergemode=mergemode, debug=debug)\n",
    "    grads = []\n",
    "    sgrads = []\n",
    "    states = []\n",
    "    hs = []\n",
    "    for seq in inputseqs:\n",
    "        out = rnn(seq.unsqueeze(0))\n",
    "        out.backward()\n",
    "        grads.append(clone_grads(rnn))\n",
    "        if debug:\n",
    "            # shape time x dim_s\n",
    "            sgrads.append(clone_sgrads(rnn))\n",
    "            states.append(clone_states(rnn))\n",
    "            hs.append(clone_hs(rnn))\n",
    "        rnn.zero_grad()\n",
    "        \n",
    "    batchsize = len(inputseqs)\n",
    "    \n",
    "    ntk = torch.zeros(batchsize, batchsize)\n",
    "    for i in range(batchsize):\n",
    "        for j in range(0, i+1):\n",
    "            ntk[i, j] = ntk[j, i] = paramdot(grads[i], grads[j])\n",
    "    \n",
    "    if not debug:\n",
    "        return dict(ntk=ntk)\n",
    "    \n",
    "    dscov = torch.zeros(batchsize, batchsize).tolist()\n",
    "    scov = torch.zeros(batchsize, batchsize).tolist()\n",
    "    hhcov = torch.zeros(batchsize, batchsize).tolist()\n",
    "    for i in range(batchsize):\n",
    "        for j in range(0, i+1):\n",
    "            dscov[i][j] = (sgrads[i] @ sgrads[j].T).numpy()\n",
    "            dscov[j][i] = dscov[i][j].T\n",
    "            scov[i][j] = (states[i] @ states[j].T).numpy() / states[i].shape[-1]\n",
    "            scov[j][i] = scov[i][j].T\n",
    "            hhcov[i][j] = (hs[i] @ hs[j].T).numpy() / hs[i].shape[-1]\n",
    "            hhcov[j][i] = hhcov[i][j].T\n",
    "    return dict(ntk=ntk, dscov=np.block(dscov), scov=np.block(scov), hhcov=np.block(hhcov))"
   ]
  },
  {
   "cell_type": "markdown",
   "metadata": {
    "heading_collapsed": true
   },
   "source": [
    "# Infinite-Width NTK"
   ]
  },
  {
   "cell_type": "markdown",
   "metadata": {
    "hidden": true
   },
   "source": [
    "Consider two input sequences $\\xi = \\{\\xi^1, \\ldots, x^T \\in \\mathbb R^d\\}$ and $\\bar \\xi = \\{\\bar \\xi^1, \\ldots, \\bar \\xi^{\\bar T} \\in \\mathbb R^d \\}$."
   ]
  },
  {
   "cell_type": "markdown",
   "metadata": {},
   "source": [
    "We calculate the NTK as is defined in the paper as \n",
    "\n",
    "$$\n",
    "\\begin{align*}\n",
    "\\Theta(\\xi, \\bar \\xi) &= \\langle \\nabla_\\theta f(\\xi), \\nabla_\\theta f(\\bar \\xi) \\rangle \\\\\n",
    "\n",
    "\\end{align*}\n",
    "$$\n",
    "\n",
    "We can view the output due to concatenation as being from two sub-parts by considering $v$ as composed of sub-parts $(v_f, v_b), so \n",
    "\n",
    "$$\n",
    "\\begin{align*}\n",
    "        f(\\xi) &= \\langle v, \\frac{(s^T_f, s^T_b)}{\\sqrt{2n}}\\rangle \\\\\n",
    "        &= \\langle (v_f, v_b), \\frac{(s^T_f, s^T_b)}{\\sqrt{2n}}\\rangle \\\\\n",
    "        &= \\frac{(v^\\top_f s^T_f, v^\\top_b s^T_b)}{\\sqrt{2n}}\n",
    "\\end{align*}\n",
    "$$\n",
    "\n",
    "Due to linearity of the gradient operator, $\\nabla f(\\xi) = \\frac{(\\nabla v^\\top_f s^T_f , \\nabla v^\\top_b s^T_b)}{\\sqrt{2n}}$. We can therefore consider sub-parts of $f$ as  $\\nabla f(\\xi) = (\\nabla f_f(\\xi), \\nabla f_b(\\xi))$\n",
    "\n",
    "Finally, in then computing the NTK\n",
    "\n",
    "\n",
    "\n",
    "$$\n",
    "\\begin{align*}\n",
    "\\Theta(\\xi, \\bar \\xi) &= \\langle \\nabla_\\theta f(\\xi), \\nabla_\\theta f(\\bar \\xi) \\rangle \\\\\n",
    "&= \\langle (\\nabla_\\theta f_f(\\xi), \\nabla_\\theta f_b(\\xi)) , (\\nabla_\\theta f_f(\\bar \\xi), \\nabla_\\theta f_b(\\bar \\xi)) \\rangle \\\\\n",
    "&= \\langle \\nabla_\\theta f_f(\\xi), \\nabla_\\theta f_f(\\bar \\xi) \\rangle + \\langle \\nabla_\\theta f_b(\\xi), \\nabla_\\theta f_b(\\bar \\xi) \\rangle \\\\\n",
    "&= \\Theta_f(\\xi, \\bar \\xi) + \\Theta_b(\\xi, \\bar \\xi) \\\\\n",
    "\n",
    "\\end{align*}\n",
    "$$\n",
    "\n",
    "In other words, we can break down the NTK into two sub-parts, from the two forward and backward RNNs separately, and then sum them.\n"
   ]
  },
  {
   "cell_type": "markdown",
   "metadata": {},
   "source": [
    "\n",
    "If the two states were summed instead of concatenated, this changes the NTK. Instead, we can rewrite $f$ in a similar fashion as $\\nabla f(\\xi) = \\nabla f_f(\\xi) + \\nabla f_b(\\xi)$\n",
    "\n",
    "With this, we can again rewrite the NTK as\n",
    "\n",
    "\n",
    "$$\n",
    "\\begin{align*}\n",
    "\\Theta(\\xi, \\bar \\xi) &= \\langle \\nabla_\\theta f(\\xi), \\nabla_\\theta f(\\bar \\xi) \\rangle \\\\\n",
    "&= \\langle (\\nabla_\\theta f_f(\\xi) + \\nabla_\\theta f_b(\\xi)) , (\\nabla_\\theta f_f(\\bar \\xi) + \\nabla_\\theta f_b(\\bar \\xi)) \\rangle \\\\\n",
    "&= \\langle \\nabla_\\theta f_f(\\xi), \\nabla_\\theta f_f(\\bar \\xi) \\rangle +\n",
    "\\langle \\nabla_\\theta f_f(\\xi), \\nabla_\\theta f_b(\\bar \\xi) \\rangle +\n",
    "\\langle \\nabla_\\theta f_b(\\xi), \\nabla_\\theta f_f(\\bar \\xi) \\rangle +\n",
    "\\langle \\nabla_\\theta f_b(\\xi), \\nabla_\\theta f_b(\\bar \\xi) \\rangle \\\\\n",
    "&= \\Theta_{ff}(\\xi, \\bar \\xi) + \\Theta_{fb}(\\xi, \\bar \\xi) + \\Theta_{bf}(\\xi, \\bar \\xi) + \\Theta_{bb}(\\xi, \\bar \\xi) \\\\\n",
    "\n",
    "\\end{align*}\n",
    "$$\n",
    "\n",
    "In other words, when calculating NTK for the summation form of the BiRNN, we end up with four separate sub parts that we need to calculate the NTK for."
   ]
  },
  {
   "cell_type": "markdown",
   "metadata": {},
   "source": [
    "## Forward"
   ]
  },
  {
   "cell_type": "markdown",
   "metadata": {},
   "source": [
    "As with the simple RNN in the paper, we can think of each $g^t_f, u^t_f, s^t_f, g^t_b, u^t_b, s^t_b, b$ as having iid coordinates distributed resp. as some random variables $Z^{g^t_f}, Z^{u^t_f}, Z^{s^t_f}, Z^{g^t_b}, Z^{u^t_b}, Z^{s^t_b}, Z^{b}$. We can then write the following recursion\n",
    "\n",
    "$$\n",
    "\\begin{align*}\n",
    "2\\mathbb{E}Z^{s^t}Z^{\\bar s^r} &= \\mathbb{E}(Z^{s^t_f},Z^{s^t_b})(Z^{\\bar s^r_f},Z^{\\bar s^r_b}) = \\mathbb{E}Z^{s^t_f}Z^{\\bar s^r_f} + \\mathbb{E}Z^{s^t_b}Z^{\\bar s^r_b}\\\\\n",
    "\n",
    "&= \\mathbb{E}\\phi(Z^{g^t_f} + Z^{u^t_f} + Z^{b})\\phi(Z^{\\bar g^r_f} + Z^{\\bar u^r_f} + Z^{b}) + \\phi(Z^{g^t_b} + Z^{u^t_b} + Z^{b})\\phi(Z^{\\bar g^r_b} + Z^{\\bar u^r_b} + Z^{b})\\\\\n",
    "&= \\mathbb{E}\\phi(\\zeta_1)\\phi(\\zeta_2) + \\mathbb{E}\\phi(\\zeta_3)\\phi(\\zeta_4) \n",
    "\\end{align*}\n",
    "$$\n",
    "\n",
    "where $(\\zeta_1, \\zeta_2) \\sim \\mathcal{N}\\left(0, \\mathbb{E}\n",
    "\\begin{pmatrix}\n",
    "Z^{s^{t-1}_f}Z^{s^{t-1}_f} & Z^{s^{t-1}_f}Z^{s^{\\bar r-1}_f}\\\\\n",
    "Z^{s^{t-1}_f}Z^{s^{\\bar r-1}_f} & Z^{s^{\\bar r-1}_f}Z^{s^{\\bar r-1}_f}\n",
    "\\end{pmatrix} + \\frac{\\xi^t_f\\top\\xi^r_f}{d}+\\sigma^2_b\n",
    "\\right)$\n",
    "\n",
    "and $(\\zeta_3, \\zeta_4) \\sim \\mathcal{N}\\left(0, \\mathbb{E}\n",
    "\\begin{pmatrix}\n",
    "Z^{s^{t-1}_b}Z^{s^{t-1}_b} & Z^{s^{t-1}_b}Z^{s^{\\bar r-1}_b}\\\\\n",
    "Z^{s^{t-1}_b}Z^{s^{\\bar r-1}_b} & Z^{s^{\\bar r-1}_b}Z^{s^{\\bar r-1}_b}\n",
    "\\end{pmatrix} + \\frac{\\xi^t_b\\top\\xi^r_b}{d}+\\sigma^2_b\n",
    "\\right)$"
   ]
  },
  {
   "cell_type": "markdown",
   "metadata": {},
   "source": [
    "This reflects the structure of GP kernel computation where, due to the concatenation, we can consider the forward RNN of the two inputs and the backward RNN of the two inputs as two separate RNNs."
   ]
  },
  {
   "cell_type": "markdown",
   "metadata": {
    "hidden": true
   },
   "source": [
    "The recursion then yields\n",
    "\n",
    "$$C^{s^t, \\bar s^r} = \\lim_{n\\to\\infty}  \\frac{s^{t\\top} \\bar s^r}{2n} = \\mathbb{E}Z^{s^t}Z^{\\bar s^r}/2$$\n",
    "\n",
    "with the additional 2 due to the doubling of the output width.\n",
    "\n",
    "However, this total $C$ is not actually used due to the formulation of the NTK. Instead, we only need $C^{s^t_o, \\bar s^r_o}$ for a specific orientation\n",
    "\n",
    "\n",
    "$$C^{s^t_o, \\bar s^r_o} = \\lim_{n\\to\\infty}  \\frac{s^{t\\top}_o \\bar s^r_o}{n} = \\mathbb{E}Z^{s^t_o}Z^{\\bar s^r_o}$$"
   ]
  },
  {
   "cell_type": "markdown",
   "metadata": {},
   "source": [
    "## Backward"
   ]
  },
  {
   "cell_type": "markdown",
   "metadata": {},
   "source": [
    "The backward equation for either orientation $o$ is given by\n",
    "\n",
    "$$\n",
    "\\begin{align*}\n",
    "ds^{t-1}_o &= W^{\\top}dg^t_o\\\\\n",
    "dg^t_o &= du^t_o = \\phi^\\prime(g^t_o + u^t_o +b)\\odot ds^t_o\n",
    "\\end{align*}\n",
    "$$\n",
    "\n",
    "We can then write another recursion like before,\n",
    "\n",
    "$$\n",
    "\\begin{align*}\n",
    "\\mathbb{E}Z^{ds^t}Z^{d\\bar s^r} &= \\mathbb{E}(Z^{ds^t_f},Z^{ds^t_b})(Z^{d\\bar s^r_f},Z^{d\\bar s^r_b}) = \\mathbb{E}Z^{ds^t_f}Z^{d\\bar s^r_f} + \\mathbb{E}Z^{ds^t_b}Z^{d\\bar s^r_b}\\\\\n",
    "\\end{align*}\n",
    "$$\n",
    "\n",
    "For ease of notation and understanding, for either orientation $o$,\n",
    "\n",
    "$$\n",
    "\\begin{align*}\n",
    "\\mathbb{E}Z^{ds^t_o}Z^{d\\bar s^r_o} &= \\mathbb{E}Z^{du^t_o}Z^{d\\bar u^r_o} \\\\\n",
    "&= \\mathbb{E}\\phi^\\prime(Z^{g^{t+1}_o} + Z^{u^{t+1}_o} + Z^{b})Z^{ds^{t+1}_o}\\phi^\\prime(Z^{\\bar g^{r+1}_o} + Z^{\\bar u^{r+1}_o} + Z^{b})Z^{d\\bar s^{r+1}_o}\\\\\n",
    "&= \\mathbb{E}Z^{ds^{t+1}_o}Z^{d\\bar s^{r+1}_o}\\phi^\\prime(Z^{g^{t+1}_o} + Z^{u^{t+1}_o} + Z^{b})\\phi^\\prime(Z^{\\bar g^{r+1}_o} + Z^{\\bar u^{r+1}_o} + Z^{b})\\\\\n",
    "\n",
    "\n",
    "&= \\mathbb{E}Z^{ds^{t+1}_o}Z^{d\\bar s^{r+1}_o}\\mathbb{E}\\phi(\\zeta_1)\\phi(\\zeta_2)\n",
    "\\end{align*}\n",
    "$$\n",
    "\n",
    "where $(\\zeta_1, \\zeta_2) \\sim \\mathcal{N}\\left(0, \\mathbb{E}\n",
    "\\begin{pmatrix}\n",
    "Z^{s^{t}_o}Z^{s^{t}_o} & Z^{s^{t}_o}Z^{s^{\\bar r}_o}\\\\\n",
    "Z^{s^{t}_o}Z^{s^{\\bar r}_o} & Z^{s^{\\bar r}_o}Z^{s^{\\bar r}_o}\n",
    "\\end{pmatrix} + \\sigma^2_U\\frac{\\xi^t_o\\top\\xi^r_o}{d}+\\sigma^2_b\n",
    "\\right)$\n"
   ]
  },
  {
   "cell_type": "markdown",
   "metadata": {},
   "source": [
    "This yields\n",
    "\n",
    "$$\n",
    "\\begin{align*}\n",
    "D^{s^t_o, \\bar s^r_o} &= \\lim_{n\\to\\infty} \\frac{ds^{t\\top}_o d\\bar s^r_o}{n} = \\mathbb{E}Z^{ds^t_o}Z^{d\\bar s^r_o}\\\\\n",
    "&= D^{s^{t+1}_o, \\bar s^{r+1}_o}\\mathbb{E}\\phi^\\prime(\\zeta_1)\\phi^\\prime(\\zeta_2)\n",
    "\\end{align*}\n",
    "$$\n",
    "\n",
    "where $(\\zeta_1, \\zeta_2) \\sim \\mathcal{N}\\left(0, \n",
    "\\begin{pmatrix}\n",
    "C^{s^t_o, s^t_o} & C^{s^t_o, \\bar s^r_o}\\\\\n",
    "C^{s^t_o, \\bar s^r_o} & C^{\\bar s^r_o, \\bar s^r_o}\n",
    "\\end{pmatrix} + \\sigma^2_U\\frac{\\xi^t_o\\top\\xi^r_o}{d}+\\sigma^2_b\n",
    "\\right)$\n",
    "\n",
    "which we can use to find \n",
    "\n",
    "$$\n",
    "D^{g^t_o, \\bar g^r_o} = D^{u^t_o, \\bar u^r_o} = \\sigma^{-2}_W D^{s^{t-1}_o, \\bar s^{r-1}_o}\n",
    "$$"
   ]
  },
  {
   "cell_type": "markdown",
   "metadata": {},
   "source": [
    "Using LastState, the initial conditions are:\n",
    "\n",
    "$$\n",
    "\\begin{align*}\n",
    "C^{s^0_o, \\bar s^r_o}C^{s^r_o, \\bar s^0_o} &= 0\\\\\n",
    "D^{s^T_o, \\bar s^{\\bar T}_o} &= \\sigma^2_v\\\\\n",
    "D^{s^T_o, \\bar s^{r}_o} &= D^{s^r_o, \\bar s^{\\bar T}_o} = 0, \\quad otherwise\n",
    "\\end{align*}\n",
    "$$\n"
   ]
  },
  {
   "cell_type": "markdown",
   "metadata": {},
   "source": [
    "\n",
    "\n",
    "It's important to note that the above splitting of the expectation $\\mathbb{E}Z^{ds^{t+1}_o}Z^{d\\bar s^{r+1}_o}\\mathbb{E}\\phi(\\zeta_1)\\phi(\\zeta_2)$ requires that the random variables $Z^{ds^{t+1}_o}$ and $Z^{ds^{r+1}_o}$ be independent from the random variables $Z^{s^{t+1}_o}$ and $Z^{s^{r+1}_o}$. We know this to be true due to the Gradience Independence Assumption, which is detailed in the paper. \n",
    "\n",
    "These equations meet the given conditions for GIA, however, we can also perform a simple GIA check as in the paper for peace of mind. Dropping the orientation notation, given\n",
    "\n",
    "$$\n",
    "ds^t = W^\\top dg^{t+1} = W^\\top \\phi^\\prime(g^{t+1}+u^{t+1}+b)\\odot ds^{t+1}\n",
    "$$\n",
    "\n",
    "and $\\frac{dy}{ds^T} = v/\\sqrt{n}$, we can then write\n",
    "\n",
    "$$\n",
    "ds^t = v^\\top \\prod_{\\tau=t+1}^{T} W^\\top \\phi^\\prime(g^{\\tau}+u^{\\tau}+b)\n",
    "$$\n",
    "\n",
    "Allowing us to then write for an element $\\alpha$ of $ds^t$,\n",
    "\n",
    "$$\n",
    "\\mathbb{E}ds^t_{\\alpha} = \\mathbb{E} v_\\alpha \\prod_{\\tau=t+1}^{T} \\sum_{\\beta} W_{\\beta\\alpha} \\phi^\\prime(g^{\\tau}_\\alpha+u^{\\tau}_\\alpha+b_\\alpha)\n",
    "$$\n",
    "\n",
    "\n",
    "Without expanding any further, we can see that because $v_\\alpha$ is independent of all other random variables in this Netsor program and has mean 0, this expectation simply comes out to be 0, confirming the GIA."
   ]
  },
  {
   "cell_type": "markdown",
   "metadata": {},
   "source": [
    "## Infinite-Width NTK"
   ]
  },
  {
   "cell_type": "markdown",
   "metadata": {},
   "source": [
    "The final NTK can then be calculated as\n",
    "\n",
    "$$\n",
    "\\begin{align*}\n",
    "\\mathring{\\Theta}(\\xi, \\bar \\xi) &= \\mathring{\\Theta}_f(\\xi, \\bar \\xi) + \\mathring{\\Theta}_b(\\xi, \\bar \\xi) \\\\\n",
    "\n",
    "\\mathring{\\Theta}_o(\\xi, \\bar \\xi) &= \\sum^T_{i=1}D^{g^{i+1}_o, \\bar g^{i+1}_o} C^{s^{i}_o, \\bar s^{i}_o} + \\sum^T_{i=1}D^{g^{i}_o, \\bar g^{i}_o} \\frac{\\xi^i \\bar \\xi^i}{d} + \\sum^T_{i=1}D^{g^{i}_o, \\bar g^{i}_o} + C^{s^{T}_o, \\bar s^T_o}\n",
    "\n",
    "\\end{align*}\n",
    "$$\n",
    "\n",
    "Operating along the diagonal of $D^{s^{i}, \\bar s^{i}}$ as we are using only LastState and not AvgPool.\n"
   ]
  },
  {
   "cell_type": "code",
   "execution_count": 407,
   "metadata": {
    "ExecuteTime": {
     "end_time": "2020-06-17T20:58:21.960684Z",
     "start_time": "2020-06-17T20:58:21.925334Z"
    },
    "hidden": true
   },
   "outputs": [],
   "source": [
    "def rnnntk_batch(ingram, Vphi3, Vderphi3,\n",
    "    varw=1, varu=1, varb=0, varv=1, mergemode=\"concat\"):\n",
    "    ''' Compute the RNN-NTK over a batch of sequences of the same length\n",
    "    Inputs:\n",
    "        `ingram`: dimension-normalized Gram matrix between all tokens across all input sequences\n",
    "            of shape [batchsize, batchsize, seqlen, seqlen]\n",
    "        `Vphi3`: V-transform of nonlin that takes in 3 input arrays (cov, var1, var2)\n",
    "        `Vderphi3`: V-transform of nonlin derivative that takes in 3 input arrays (cov, var1, var2)\n",
    "        `varw`: variance of state-to-state weights\n",
    "        `varu`: variance of input-to-state weights\n",
    "        `varb`: variance of biases\n",
    "        `varv`: variance of output weights\n",
    "        `avgpool`: if True, output is the average of all states multiplied by output weights.\n",
    "            Otherwise, output is just the last state multiplied by output weigths.\n",
    "    Outputs:\n",
    "        a dictionary of kernels\n",
    "        output['ntk'] gives the NTK\n",
    "        '''\n",
    "    '''\n",
    "\n",
    "    ingram_b = np.zeros(ingram.shape)\n",
    "    ingram_b[0,0,...]= ingram[0,0,...][::-1, ::-1]\n",
    "    ingram_b[0,1,...]= ingram[0,1,...][::-1, ::-1]\n",
    "    ingram_b[1,0,...]= ingram[1,0,...][::-1, ::-1]\n",
    "    ingram_b[1,1,...]= ingram[1,1,...][::-1, ::-1]\n",
    "\n",
    "    seqlen = ingram.shape[-1]\n",
    "    batchsize = ingram.shape[0]\n",
    "    # hcov[ia, jb] = < h^(i+2,a), h^(j+2,b) >\n",
    "    hcov_f = np.zeros(ingram.shape)\n",
    "    hcov_b = np.zeros(ingram.shape)\n",
    "    # hhcov[ia, jb] = < \\tilde h^(i+1,a), \\tilde h^(j+1,b) >\n",
    "    hhcov_f = np.zeros(ingram.shape)\n",
    "    hhcov_f[..., 0, :] = varu * ingram[..., 0, :] + varb\n",
    "    hhcov_f[..., :, 0] = varu * ingram[..., :, 0] + varb\n",
    "\n",
    "    hhcov_b = np.zeros(ingram.shape)\n",
    "    hhcov_b[..., 0, :] = varu * ingram_b[..., 0, :] + varb\n",
    "    hhcov_b[..., :, 0] = varu * ingram_b[..., :, 0] + varb\n",
    "    \n",
    "    # fill in zeroed entries\n",
    "    def reflect(t):\n",
    "        return np.where(t==0, np.moveaxis(t, [0, 2], [1, 3]), t)\n",
    "    def hhcov_o_prep(hhcov_o, i=None, b=0):\n",
    "        if i is None:\n",
    "            d = np.einsum('aaii->ai', hhcov_o)\n",
    "            return np.broadcast_arrays(\n",
    "                hhcov_o,\n",
    "                d.reshape(batchsize, 1, seqlen, 1),\n",
    "                d.reshape(1, batchsize, 1, seqlen)\n",
    "            )\n",
    "        return np.broadcast_arrays(\n",
    "            hhcov_o[..., i, b:i+1],\n",
    "            np.diag(hhcov_o[..., i, i]).reshape(batchsize, 1, 1),\n",
    "            np.einsum('aaii->ai', hhcov_o[..., b:i+1, b:i+1]).reshape(1, batchsize, i+1-b)\n",
    "        )\n",
    "    def Vderphi(mat):\n",
    "        d = np.diag(mat)\n",
    "        return Vderphi3(mat, d.reshape(-1, 1), d.reshape(1, -1))\n",
    "    \n",
    "    for i in range(0, seqlen):\n",
    "        hcov_f[..., i, :i+1] = varw * Vphi3(*hhcov_o_prep(hhcov_f, i))\n",
    "        hcov_b[..., i, :i+1] = varw * Vphi3(*hhcov_o_prep(hhcov_b, i))\n",
    "\n",
    "        if i < seqlen - 1:\n",
    "            hhcov_f[..., i+1, 1:i+2] = hcov_f[..., i, :i+1] + varu * ingram[..., i+1, 1:i+2] + varb\n",
    "            hhcov_b[..., i+1, 1:i+2] = hcov_b[..., i, :i+1] + varu * ingram_b[..., i+1, 1:i+2] + varb\n",
    "\n",
    "    hhcov_f = reflect(hhcov_f)\n",
    "    hcov_f = reflect(hcov_f)\n",
    "    scov_f = varw**-1 * hcov_f\n",
    "\n",
    "    hhcov_b = reflect(hhcov_b)\n",
    "    hcov_b = reflect(hcov_b)\n",
    "    scov_b = varw**-1 * hcov_b\n",
    "    '''\n",
    "\n",
    "    maxlength = ingram.shape[2]\n",
    "    seqlen = ingram.shape[-1]\n",
    "    batchsize = ingram.shape[0]\n",
    "    \n",
    "    def reflect(t):\n",
    "        return np.where(t==0, np.moveaxis(t, [0, 2], [1, 3]), t)\n",
    "    def hhcov_o_prep(hhcov_o, i=None, b=0):\n",
    "        if i is None:\n",
    "            d = np.einsum('aaii->ai', hhcov_o)\n",
    "            return np.broadcast_arrays(\n",
    "                hhcov_o,\n",
    "                d.reshape(batchsize, 1, seqlen, 1),\n",
    "                d.reshape(1, batchsize, 1, seqlen)\n",
    "            )\n",
    "        return np.broadcast_arrays(\n",
    "            hhcov_o[..., i, b:i+1],\n",
    "            np.diag(hhcov_o[..., i, i]).reshape(batchsize, 1, 1),\n",
    "            np.einsum('aaii->ai', hhcov_o[..., b:i+1, b:i+1]).reshape(1, batchsize, i+1-b)\n",
    "        )\n",
    "    def Vderphi(mat):\n",
    "        d = np.diag(mat)\n",
    "        return Vderphi3(mat, d.reshape(-1, 1), d.reshape(1, -1))\n",
    "    \n",
    "    \n",
    "    ingram_input1 = np.zeros((2,2, ingram.shape[2], ingram.shape[2]))\n",
    "    ingram_input1[0,0, ...] = ingram[0,0, ...]\n",
    "    ingram_input1[1,1, ...] = ingram[0,0, ...][::-1, ::-1]\n",
    "    ingram_input1[0,1,...] = ingram[0,0, ...][:, ::-1]\n",
    "    ingram_input1[1,0,...] = ingram[0,0, ...][::-1, :]\n",
    "    \n",
    "    hcov_input1 = np.zeros(ingram_input1.shape)\n",
    "    hhcov_input1 = np.zeros(ingram_input1.shape)\n",
    "\n",
    "    hhcov_input1[..., 0, :] = varu * ingram_input1[..., 0, :] + varb\n",
    "    hhcov_input1[..., :, 0] = varu * ingram_input1[..., :, 0] + varb\n",
    "\n",
    "    '''\n",
    "    for _ in range(ingram.shape[2]):\n",
    "        hhcov_input1[..., 1:, 1:] = hcov_input1[..., :-1, :-1]\n",
    "        hhcov_input1[..., 0, :] = hhcov_input1[..., :, 0] = 0\n",
    "        hhcov_input1 += varu * ingram_input1 + varb\n",
    "        hcov_input1 = varw * Vphi(hhcov_input1)\n",
    "    '''\n",
    "\n",
    "    ingram_input2 = np.zeros((2,2, ingram.shape[3], ingram.shape[3]))\n",
    "    ingram_input2[0,0, ...] = ingram[1,1, ...]\n",
    "    ingram_input2[1,1, ...] = ingram[1,1, ...][::-1, ::-1]\n",
    "    ingram_input2[0,1,...] = ingram[1,1, ...][:, ::-1]\n",
    "    ingram_input2[1,0,...] = ingram[1,1, ...][::-1, :]\n",
    "\n",
    "    hcov_input2 = np.zeros(ingram_input2.shape)\n",
    "    hhcov_input2 = np.zeros(ingram_input2.shape)\n",
    "\n",
    "    hhcov_input2[..., 0, :] = varu * ingram_input2[..., 0, :] + varb\n",
    "    hhcov_input2[..., :, 0] = varu * ingram_input2[..., :, 0] + varb\n",
    "\n",
    "    '''\n",
    "    for _ in range(ingram.shape[3]):\n",
    "        hhcov_input2[..., 1:, 1:] = hcov_input2[..., :-1, :-1]\n",
    "        hhcov_input2[..., 0, :] = hhcov_input2[..., :, 0] = 0\n",
    "        hhcov_input2 += varu * ingram_input2 + varb\n",
    "        hcov_input2 = varw * Vphi(hhcov_input2)\n",
    "    '''\n",
    "    \n",
    "    coingram = np.repeat(ingram[None, ...], 4, axis=0)\n",
    "\n",
    "    coingram[1][0,0,...] = ingram[0,0,...][::-1, ::-1]\n",
    "    coingram[1][0,1,...] = ingram[0,1,...][::-1, ::-1]\n",
    "    coingram[1][1,0,...] = ingram[1,0,...][::-1, ::-1]\n",
    "    coingram[1][1,1,...] = ingram[1,1,...][::-1, ::-1]\n",
    "\n",
    "    coingram[2][0,0,...] = ingram[0,0,...]\n",
    "    coingram[2][0,1,...] = ingram[0,1,...][::-1, ::-1]\n",
    "    coingram[2][1,0,...] = ingram[1,0,...][::-1, :]\n",
    "    coingram[2][1,1,...] = (ingram[1,0,...][::-1, :]).T\n",
    "    \n",
    "    coingram[3][0,0,...] = ingram[0,0,...][::-1, ::-1]\n",
    "    coingram[3][0,1,...] = ingram[0,1,...]\n",
    "    coingram[3][1,0,...] = ingram[1,0,...][:, ::-1]\n",
    "    coingram[3][1,1,...] = (ingram[1,0,...][:, ::-1]).T\n",
    "\n",
    "    hcov = np.zeros(coingram.shape)\n",
    "    hhcov = np.zeros(coingram.shape)\n",
    "\n",
    "    hhcov[..., 0, :] = varu * coingram[..., 0, :] + varb\n",
    "    hhcov[..., :, 0] = varu * coingram[..., :, 0] + varb\n",
    "\n",
    "    '''\n",
    "    for _ in range(maxlength):\n",
    "        hhcov[..., 1:, 1:] = hcov[..., :-1, :-1]\n",
    "        hhcov[..., 0, :] = hhcov[..., :, 0] = 0\n",
    "        hhcov += varu * coingram + varb\n",
    "        hcov = varw * Vphi(hhcov)\n",
    "    '''\n",
    "    \n",
    "\n",
    "    for i in range(0, seqlen):\n",
    "        hcov[0][..., i, :i+1] = varw * Vphi3(*hhcov_o_prep(hhcov[0], i))\n",
    "        hcov[1][..., i, :i+1] = varw * Vphi3(*hhcov_o_prep(hhcov[1], i))\n",
    "        hcov[2][..., i, :i+1] = varw * Vphi3(*hhcov_o_prep(hhcov[2], i))\n",
    "        hcov[3][..., i, :i+1] = varw * Vphi3(*hhcov_o_prep(hhcov[3], i))\n",
    "\n",
    "        hcov_input1[..., i, :i+1] = varw * Vphi3(*hhcov_o_prep(hhcov_input1, i))\n",
    "        hcov_input2[..., i, :i+1] = varw * Vphi3(*hhcov_o_prep(hhcov_input2, i))\n",
    "\n",
    "        if i < seqlen - 1:\n",
    "            hhcov[..., i+1, 1:i+2] = hcov[..., i, :i+1] + varu * coingram[..., i+1, 1:i+2] + varb\n",
    "            hhcov_input1[..., i+1, 1:i+2] = hcov_input1[..., i, :i+1] + varu * ingram_input1[..., i+1, 1:i+2] + varb\n",
    "            hhcov_input2[..., i+1, 1:i+2] = hcov_input2[..., i, :i+1] + varu * ingram_input2[..., i+1, 1:i+2] + varb\n",
    "\n",
    "    hhcov[0] = reflect(hhcov[0])\n",
    "    hhcov[1] = reflect(hhcov[1])\n",
    "    hhcov[2] = reflect(hhcov[2])\n",
    "    hhcov[3] = reflect(hhcov[3])\n",
    "    hcov[0] = reflect(hcov[0])\n",
    "    hcov[1] = reflect(hcov[1])\n",
    "    hcov[2] = reflect(hcov[2])\n",
    "    hcov[3] = reflect(hcov[3])\n",
    "    scov = varw**-1 * hcov\n",
    "\n",
    "    hhcov_input1 = reflect(hhcov_input1)\n",
    "    hcov_input1 = reflect(hcov_input1)\n",
    "    scov_input1 = varw**-1 * hcov_input1\n",
    "\n",
    "    hhcov_input2 = reflect(hhcov_input2)\n",
    "    hcov_input2 = reflect(hcov_input2)\n",
    "    scov_input2 = varw**-1 * hcov_input2\n",
    "\n",
    "    '''\n",
    "    hcov[2][0, 0, ...] = hcov_input1[0, 1, ...]\n",
    "    hcov[3][0, 0, ...] = hcov_input1[1, 0, ...]\n",
    "\n",
    "    hcov[2][1, 1, ...] = hcov_input2[0, 1, ...]\n",
    "    hcov[3][1, 1, ...] = hcov_input2[1, 0, ...]\n",
    "    '''\n",
    "    \n",
    "    if mergemode == \"concat\":\n",
    "        dhcov_f = np.zeros([batchsize, batchsize, seqlen+1])\n",
    "        dhcov_f[..., -1] = varv\n",
    "\n",
    "        dhcov_b = np.zeros([batchsize, batchsize, seqlen+1])\n",
    "        dhcov_b[..., -1] = varv\n",
    "\n",
    "        for i in range(seqlen-1, -1, -1):\n",
    "            dhcov_f[..., i] = varw * Vderphi(hhcov_f[..., i, i]) * dhcov_f[..., i+1]\n",
    "            dhcov_b[..., i] = varw * Vderphi(hhcov_b[..., i, i]) * dhcov_b[..., i+1]\n",
    "\n",
    "        dhcov_f /= varw\n",
    "        dhcov_f = dhcov_f[..., :-1]\n",
    "\n",
    "        dhcov_b /= varw\n",
    "        dhcov_b = dhcov_b[..., :-1]\n",
    "\n",
    "        buf_f = np.einsum('abii->abi', ingram) + 1\n",
    "        buf_f[..., 1:] += np.einsum('abii->abi', scov_f[..., :-1, :-1])\n",
    "        ntk_f = np.einsum('abi,abi->ab', dhcov_f, buf_f)\n",
    "        ntk_f += scov_f[..., -1, -1]\n",
    "\n",
    "        buf_b = np.einsum('abii->abi', ingram_b) + 1\n",
    "        buf_b[..., 1:] += np.einsum('abii->abi', scov_b[..., :-1, :-1])\n",
    "        ntk_b = np.einsum('abi,abi->ab', dhcov_b, buf_b)\n",
    "        ntk_b += scov_b[..., -1, -1]\n",
    "        return ntk_f + ntk_b\n",
    "\n",
    "    elif mergemode == \"sum\":\n",
    "        dhcov_ff = np.zeros([batchsize, batchsize, seqlen+1])\n",
    "        dhcov_ff[..., -1] = varv\n",
    "        \n",
    "        dhcov_fb = np.zeros([batchsize, batchsize, seqlen+1])\n",
    "        dhcov_fb[..., -1] = varv\n",
    "        \n",
    "        dhcov_bf = np.zeros([batchsize, batchsize, seqlen+1])\n",
    "        dhcov_bf[..., -1] = varv\n",
    "\n",
    "        dhcov_bb = np.zeros([batchsize, batchsize, seqlen+1])\n",
    "        dhcov_bb[..., -1] = varv\n",
    "\n",
    "        dhcov_input1 = np.zeros([batchsize, batchsize, seqlen+1])\n",
    "        dhcov_input1[..., -1] = varv\n",
    "\n",
    "        dhcov_input2 = np.zeros([batchsize, batchsize, seqlen+1])\n",
    "        dhcov_input2[..., -1] = varv\n",
    "\n",
    "        def Vderphi(mat):\n",
    "            d = np.diag(mat)\n",
    "            return Vderphi3(mat, d.reshape(-1, 1), d.reshape(1, -1))\n",
    "\n",
    "        for i in range(seqlen-1, -1, -1):\n",
    "            dhcov_ff[..., i] = varw * Vderphi(hhcov[0][..., i, i]) * dhcov_ff[..., i+1]\n",
    "            dhcov_bb[..., i] = varw * Vderphi(hhcov[1][..., i, i]) * dhcov_bb[..., i+1]\n",
    "            dhcov_fb[..., i] = varw * Vderphi(hhcov[2][..., i, i]) * dhcov_fb[..., i+1]\n",
    "            dhcov_bf[..., i] = varw * Vderphi(hhcov[3][..., i, i]) * dhcov_bf[..., i+1]\n",
    "            \n",
    "            dhcov_input1[..., i] = varw * Vderphi(hhcov_input1[..., i, i]) * dhcov_input1[..., i+1]\n",
    "            dhcov_input2[..., i] = varw * Vderphi(hhcov_input2[..., i, i]) * dhcov_input2[..., i+1]\n",
    "\n",
    "        dhcov_ff /= varw\n",
    "        dhcov_ff = dhcov_ff[..., :-1]\n",
    "\n",
    "        dhcov_fb /= varw\n",
    "        dhcov_fb = dhcov_fb[..., :-1]\n",
    "\n",
    "        dhcov_bf /= varw\n",
    "        dhcov_bf = dhcov_bf[..., :-1]\n",
    "\n",
    "        dhcov_bb /= varw\n",
    "        dhcov_bb = dhcov_bb[..., :-1]\n",
    "\n",
    "        dhcov_input1 /= varw\n",
    "        dhcov_input1 = dhcov_input1[..., :-1]\n",
    "\n",
    "        dhcov_input2 /= varw\n",
    "        dhcov_input2 = dhcov_input2[..., :-1]\n",
    "        \n",
    "        hcov[2][0, 0, ...] = hcov_input1[0, 1, ...]\n",
    "        hcov[3][0, 0, ...] = hcov_input1[1, 0, ...]\n",
    "\n",
    "        hcov[2][1, 1, ...] = hcov_input2[0, 1, ...]\n",
    "        hcov[3][1, 1, ...] = hcov_input2[1, 0, ...]\n",
    "\n",
    "        dhcov_fb[0, 0, ...] = dhcov_input1[0, 1, ...]\n",
    "        dhcov_bf[0, 0, ...] = dhcov_input1[1, 0, ...]\n",
    "\n",
    "        dhcov_fb[1, 1, ...] = dhcov_input2[0, 1, ...]\n",
    "        dhcov_bf[1, 1, ...] = dhcov_input2[1, 0, ...]\n",
    "\n",
    "        buf_ff = np.einsum('abii->abi', coingram[0]) + 1\n",
    "        buf_ff[..., 1:] += np.einsum('abii->abi', hcov[0][..., :-1, :-1])\n",
    "        ntk_ff = np.einsum('abi,abi->ab', dhcov_ff, buf_ff)\n",
    "        ntk_ff += hcov[0][..., -1, -1]\n",
    "\n",
    "        buf_bb = np.einsum('abii->abi', coingram[1]) + 1\n",
    "        buf_bb[..., 1:] += np.einsum('abii->abi', hcov[1][..., :-1, :-1])\n",
    "        ntk_bb = np.einsum('abi,abi->ab', dhcov_bb, buf_bb)\n",
    "        ntk_bb += hcov[1][..., -1, -1]\n",
    "\n",
    "        buf_fb = np.einsum('abii->abi', coingram[2]) + 1\n",
    "        buf_fb[..., 1:] += np.einsum('abii->abi', hcov[2][..., :-1, :-1])\n",
    "        ntk_fb = np.einsum('abi,abi->ab', dhcov_fb, buf_fb)\n",
    "        ntk_fb += hcov[2][..., -1, -1]\n",
    "\n",
    "        buf_bf = np.einsum('abii->abi', coingram[3]) + 1\n",
    "        buf_bf[..., 1:] += np.einsum('abii->abi', hcov[3][..., :-1, :-1])\n",
    "        ntk_bf = np.einsum('abi,abi->ab', dhcov_bf, buf_bf)\n",
    "        ntk_bf += hcov[3][..., -1, -1]\n",
    "\n",
    "        return ntk_ff + ntk_fb + ntk_bf + ntk_bb\n",
    "\n",
    "\n",
    "    raise NotImplementedError()"
   ]
  },
  {
   "cell_type": "markdown",
   "metadata": {
    "heading_collapsed": true
   },
   "source": [
    "# Theory vs Simulation"
   ]
  },
  {
   "cell_type": "markdown",
   "metadata": {
    "hidden": true
   },
   "source": [
    "We verify that as width increases, the empirical finite-width NTK converges to the theoretical infinite-width NTK."
   ]
  },
  {
   "cell_type": "markdown",
   "metadata": {
    "hidden": true
   },
   "source": [
    "## Data"
   ]
  },
  {
   "cell_type": "code",
   "execution_count": 408,
   "metadata": {
    "ExecuteTime": {
     "end_time": "2020-06-17T20:58:22.976287Z",
     "start_time": "2020-06-17T20:58:21.995796Z"
    },
    "hidden": true,
    "tags": []
   },
   "outputs": [
    {
     "output_type": "stream",
     "name": "stdout",
     "text": "Files already downloaded and verified\n"
    }
   ],
   "source": [
    "transform = transforms.Compose(\n",
    "    [transforms.ToTensor(),\n",
    "     transforms.Normalize((0.5, 0.5, 0.5), (0.5, 0.5, 0.5))])\n",
    "\n",
    "trainset = torchvision.datasets.CIFAR10(root='./data', train=True,\n",
    "                                        download=True, transform=transform)"
   ]
  },
  {
   "cell_type": "markdown",
   "metadata": {
    "hidden": true
   },
   "source": [
    "We treat the first 5 pixels (3 channels each) as the \"tokens\" in a sequence of 5. We use the first 2 images from CIFAR10 for our 2 sequences."
   ]
  },
  {
   "cell_type": "code",
   "execution_count": 396,
   "metadata": {
    "ExecuteTime": {
     "end_time": "2020-06-17T20:58:32.817691Z",
     "start_time": "2020-06-17T20:58:22.978453Z"
    },
    "hidden": true,
    "tags": []
   },
   "outputs": [],
   "source": [
    "M = 2\n",
    "T = 5\n",
    "\n",
    "inps = torch.stack([v[0].reshape(3, -1)[:, :T].T for i, v in enumerate(trainset)\n",
    "                 if i < M]).numpy()\n",
    "inpcov = np.einsum('ais,bjs->aibj', inps, inps) / inps.shape[-1]\n",
    "inpcov = np.moveaxis(inpcov, 1, 2)"
   ]
  },
  {
   "cell_type": "markdown",
   "metadata": {
    "hidden": true
   },
   "source": [
    "## Verify"
   ]
  },
  {
   "cell_type": "code",
   "execution_count": 397,
   "metadata": {
    "ExecuteTime": {
     "end_time": "2020-06-17T20:58:32.822207Z",
     "start_time": "2020-06-17T20:58:32.819402Z"
    },
    "hidden": true
   },
   "outputs": [],
   "source": [
    "varw = 1\n",
    "varu = 2\n",
    "varb = 0.2\n",
    "varv = 1\n",
    "mergemode = \"sum\""
   ]
  },
  {
   "cell_type": "code",
   "execution_count": 398,
   "metadata": {
    "ExecuteTime": {
     "end_time": "2020-06-17T20:58:32.841304Z",
     "start_time": "2020-06-17T20:58:32.823918Z"
    },
    "hidden": true,
    "tags": []
   },
   "outputs": [],
   "source": [
    "\n",
    "def VErf(cov):\n",
    "    '''\n",
    "    Computes E[erf(z) erf(z)^T | z ~ N(0, `cov`)]\n",
    "    where z is a multivariate Gaussian with mean 0 and covariance `cov`\n",
    "\n",
    "    Inputs:\n",
    "        `cov`: An array where the last 2 dimensions contain covariance matrix of z (and the first dimensions are \"batch\" dimensions)\n",
    "    Output:\n",
    "        a numpy array of the same shape as `cov` that equals the\n",
    "        expectation above in the last 2 dimensions.\n",
    "    '''\n",
    "    ll = list(range(cov.shape[-1]))\n",
    "    d = np.sqrt(cov[..., ll, ll] + 0.5)\n",
    "\n",
    "    c = d[..., None]**(-1) * cov * d[..., None, :]**(-1)\n",
    "    return 2./np.pi * np.arcsin(np.clip(c, -1, 1))\n",
    "\n",
    "\n",
    "def VDerErf(cov):\n",
    "    '''\n",
    "    Computes E[erf'(z) erf'(z)^T | z ~ N(0, `cov`)]\n",
    "    where erf' is the derivative of erf and\n",
    "    z is a multivariate Gaussian with mean 0 and covariance `cov`\n",
    "\n",
    "    Inputs:\n",
    "        `cov`: An array where the last 2 dimensions contain covariance matrix of z (and the first dimensions are \"batch\" dimensions)\n",
    "    Output:\n",
    "        a numpy array of the same shape as `cov` that equals the\n",
    "        expectation above in the last 2 dimensions.\n",
    "    '''\n",
    "    ll = list(range(cov.shape[-1]))\n",
    "    d = np.sqrt(cov[..., ll, ll])\n",
    "    dd = 1 + 2 * d\n",
    "    return 4/np.pi * (dd[..., None] * dd[..., None, :] - 4 * cov**2)**(-1./2)\n",
    "\n",
    "thcov = rnnntk_batch(inpcov, VErf3, VDerErf3, varw, varu, varb, varv, mergemode=mergemode)"
   ]
  },
  {
   "cell_type": "code",
   "execution_count": 399,
   "metadata": {
    "ExecuteTime": {
     "end_time": "2020-06-17T20:58:32.863597Z",
     "start_time": "2020-06-17T20:58:32.842856Z"
    },
    "hidden": true
   },
   "outputs": [],
   "source": [
    "def NTK_theory_vs_sim(inpseqs, infntk, varw, varu, varb, mergemode,\n",
    "                      nonlin=torch.erf,\n",
    "                      log2widthmin=6, log2widthmax=15, nseeds=10):\n",
    "    if isinstance(inpseqs, np.ndarray):\n",
    "        inpseqs = torch.from_numpy(inpseqs).float()\n",
    "    widths = 2**np.arange(log2widthmin, log2widthmax)\n",
    "    mysimcovs = {}\n",
    "    for width in tqdm(widths):\n",
    "        mysimcovs[width] = np.stack([\n",
    "            simrnn_ntk(inpseqs, width,\n",
    "                       nonlin, varw, varu, varb,\n",
    "                       seed=seed, mergemode=mergemode, debug=False)['ntk']\n",
    "            for seed in range(nseeds)])\n",
    "    frobs = []\n",
    "    infntknorm = np.linalg.norm(infntk)\n",
    "    for width in widths:\n",
    "        _frobs = np.sum((mysimcovs[width] - infntk)**2,\n",
    "                        axis=(1, 2)) / infntknorm**2\n",
    "        for f in _frobs:\n",
    "            frobs.append(dict(\n",
    "                relfrob=np.sqrt(f),\n",
    "                width=width\n",
    "            ))\n",
    "    return pd.DataFrame(frobs)"
   ]
  },
  {
   "cell_type": "markdown",
   "metadata": {
    "hidden": true
   },
   "source": [
    "We measured the relative Frobenius norm of the finite-width deviation = $\\|\\Theta - \\mathring \\Theta\\|_F / \\|\\mathring \\Theta\\|_F$, where $\\Theta$ and $\\mathring \\Theta$ are resp. the finite (empirical) and infinite-width (theoretical) NTKs."
   ]
  },
  {
   "cell_type": "code",
   "execution_count": 400,
   "metadata": {
    "ExecuteTime": {
     "end_time": "2020-06-17T21:05:30.779105Z",
     "start_time": "2020-06-17T20:58:32.865163Z"
    },
    "hidden": true,
    "scrolled": true,
    "tags": []
   },
   "outputs": [
    {
     "output_type": "stream",
     "name": "stderr",
     "text": "100%|██████████| 8/8 [11:14<00:00, 84.36s/it]\n"
    }
   ],
   "source": [
    "frob_df = NTK_theory_vs_sim(inps, thcov, varw, varu, varb,\n",
    "                           mergemode=mergemode, log2widthmax=14, nseeds=100)"
   ]
  },
  {
   "cell_type": "code",
   "execution_count": 401,
   "metadata": {
    "ExecuteTime": {
     "end_time": "2020-06-17T21:05:32.092838Z",
     "start_time": "2020-06-17T21:05:30.780738Z"
    },
    "hidden": true
   },
   "outputs": [
    {
     "output_type": "display_data",
     "data": {
      "text/plain": "<Figure size 432x288 with 1 Axes>",
      "image/svg+xml": "<?xml version=\"1.0\" encoding=\"utf-8\" standalone=\"no\"?>\r\n<!DOCTYPE svg PUBLIC \"-//W3C//DTD SVG 1.1//EN\"\r\n  \"http://www.w3.org/Graphics/SVG/1.1/DTD/svg11.dtd\">\r\n<!-- Created with matplotlib (https://matplotlib.org/) -->\r\n<svg height=\"299.92275pt\" version=\"1.1\" viewBox=\"0 0 401.381077 299.92275\" width=\"401.381077pt\" xmlns=\"http://www.w3.org/2000/svg\" xmlns:xlink=\"http://www.w3.org/1999/xlink\">\r\n <defs>\r\n  <style type=\"text/css\">\r\n*{stroke-linecap:butt;stroke-linejoin:round;}\r\n  </style>\r\n </defs>\r\n <g id=\"figure_1\">\r\n  <g id=\"patch_1\">\r\n   <path d=\"M 0 299.92275 \r\nL 401.381077 299.92275 \r\nL 401.381077 0 \r\nL 0 0 \r\nz\r\n\" style=\"fill:#ffffff;\"/>\r\n  </g>\r\n  <g id=\"axes_1\">\r\n   <g id=\"patch_2\">\r\n    <path d=\"M 53.454375 254.718375 \r\nL 388.254375 254.718375 \r\nL 388.254375 37.278375 \r\nL 53.454375 37.278375 \r\nz\r\n\" style=\"fill:#eaeaf2;\"/>\r\n   </g>\r\n   <g id=\"matplotlib.axis_1\">\r\n    <g id=\"xtick_1\">\r\n     <g id=\"line2d_1\">\r\n      <path clip-path=\"url(#p97453970d7)\" d=\"M 96.667758 254.718375 \r\nL 96.667758 37.278375 \r\n\" style=\"fill:none;stroke:#ffffff;stroke-linecap:round;\"/>\r\n     </g>\r\n     <g id=\"text_1\">\r\n      <!-- $\\mathdefault{10^{2}}$ -->\r\n      <defs>\r\n       <path d=\"M 37.25 0 \r\nL 28.46875 0 \r\nL 28.46875 56 \r\nQ 25.296875 52.984375 20.140625 49.953125 \r\nQ 14.984375 46.921875 10.890625 45.40625 \r\nL 10.890625 53.90625 \r\nQ 18.265625 57.375 23.78125 62.296875 \r\nQ 29.296875 67.234375 31.59375 71.875 \r\nL 37.25 71.875 \r\nz\r\n\" id=\"ArialMT-49\"/>\r\n       <path d=\"M 4.15625 35.296875 \r\nQ 4.15625 48 6.765625 55.734375 \r\nQ 9.375 63.484375 14.515625 67.671875 \r\nQ 19.671875 71.875 27.484375 71.875 \r\nQ 33.25 71.875 37.59375 69.546875 \r\nQ 41.9375 67.234375 44.765625 62.859375 \r\nQ 47.609375 58.5 49.21875 52.21875 \r\nQ 50.828125 45.953125 50.828125 35.296875 \r\nQ 50.828125 22.703125 48.234375 14.96875 \r\nQ 45.65625 7.234375 40.5 3 \r\nQ 35.359375 -1.21875 27.484375 -1.21875 \r\nQ 17.140625 -1.21875 11.234375 6.203125 \r\nQ 4.15625 15.140625 4.15625 35.296875 \r\nz\r\nM 13.1875 35.296875 \r\nQ 13.1875 17.671875 17.3125 11.828125 \r\nQ 21.4375 6 27.484375 6 \r\nQ 33.546875 6 37.671875 11.859375 \r\nQ 41.796875 17.71875 41.796875 35.296875 \r\nQ 41.796875 52.984375 37.671875 58.78125 \r\nQ 33.546875 64.59375 27.390625 64.59375 \r\nQ 21.34375 64.59375 17.71875 59.46875 \r\nQ 13.1875 52.9375 13.1875 35.296875 \r\nz\r\n\" id=\"ArialMT-48\"/>\r\n       <path d=\"M 50.34375 8.453125 \r\nL 50.34375 0 \r\nL 3.03125 0 \r\nQ 2.9375 3.171875 4.046875 6.109375 \r\nQ 5.859375 10.9375 9.828125 15.625 \r\nQ 13.8125 20.3125 21.34375 26.46875 \r\nQ 33.015625 36.03125 37.109375 41.625 \r\nQ 41.21875 47.21875 41.21875 52.203125 \r\nQ 41.21875 57.421875 37.46875 61 \r\nQ 33.734375 64.59375 27.734375 64.59375 \r\nQ 21.390625 64.59375 17.578125 60.78125 \r\nQ 13.765625 56.984375 13.71875 50.25 \r\nL 4.6875 51.171875 \r\nQ 5.609375 61.28125 11.65625 66.578125 \r\nQ 17.71875 71.875 27.9375 71.875 \r\nQ 38.234375 71.875 44.234375 66.15625 \r\nQ 50.25 60.453125 50.25 52 \r\nQ 50.25 47.703125 48.484375 43.546875 \r\nQ 46.734375 39.40625 42.65625 34.8125 \r\nQ 38.578125 30.21875 29.109375 22.21875 \r\nQ 21.1875 15.578125 18.9375 13.203125 \r\nQ 16.703125 10.84375 15.234375 8.453125 \r\nz\r\n\" id=\"ArialMT-50\"/>\r\n      </defs>\r\n      <g style=\"fill:#262626;\" transform=\"translate(88.032758 275.562125)scale(0.11 -0.11)\">\r\n       <use transform=\"translate(0 0.99375)\" xlink:href=\"#ArialMT-49\"/>\r\n       <use transform=\"translate(55.615234 0.99375)\" xlink:href=\"#ArialMT-48\"/>\r\n       <use transform=\"translate(112.972813 70.6875)scale(0.7)\" xlink:href=\"#ArialMT-50\"/>\r\n      </g>\r\n     </g>\r\n    </g>\r\n    <g id=\"xtick_2\">\r\n     <g id=\"line2d_2\">\r\n      <path clip-path=\"url(#p97453970d7)\" d=\"M 241.106918 254.718375 \r\nL 241.106918 37.278375 \r\n\" style=\"fill:none;stroke:#ffffff;stroke-linecap:round;\"/>\r\n     </g>\r\n     <g id=\"text_2\">\r\n      <!-- $\\mathdefault{10^{3}}$ -->\r\n      <defs>\r\n       <path d=\"M 4.203125 18.890625 \r\nL 12.984375 20.0625 \r\nQ 14.5 12.59375 18.140625 9.296875 \r\nQ 21.78125 6 27 6 \r\nQ 33.203125 6 37.46875 10.296875 \r\nQ 41.75 14.59375 41.75 20.953125 \r\nQ 41.75 27 37.796875 30.921875 \r\nQ 33.84375 34.859375 27.734375 34.859375 \r\nQ 25.25 34.859375 21.53125 33.890625 \r\nL 22.515625 41.609375 \r\nQ 23.390625 41.5 23.921875 41.5 \r\nQ 29.546875 41.5 34.03125 44.421875 \r\nQ 38.53125 47.359375 38.53125 53.46875 \r\nQ 38.53125 58.296875 35.25 61.46875 \r\nQ 31.984375 64.65625 26.8125 64.65625 \r\nQ 21.6875 64.65625 18.265625 61.421875 \r\nQ 14.84375 58.203125 13.875 51.765625 \r\nL 5.078125 53.328125 \r\nQ 6.6875 62.15625 12.390625 67.015625 \r\nQ 18.109375 71.875 26.609375 71.875 \r\nQ 32.46875 71.875 37.390625 69.359375 \r\nQ 42.328125 66.84375 44.9375 62.5 \r\nQ 47.5625 58.15625 47.5625 53.265625 \r\nQ 47.5625 48.640625 45.0625 44.828125 \r\nQ 42.578125 41.015625 37.703125 38.765625 \r\nQ 44.046875 37.3125 47.5625 32.6875 \r\nQ 51.078125 28.078125 51.078125 21.140625 \r\nQ 51.078125 11.765625 44.234375 5.25 \r\nQ 37.40625 -1.265625 26.953125 -1.265625 \r\nQ 17.53125 -1.265625 11.296875 4.34375 \r\nQ 5.078125 9.96875 4.203125 18.890625 \r\nz\r\n\" id=\"ArialMT-51\"/>\r\n      </defs>\r\n      <g style=\"fill:#262626;\" transform=\"translate(232.471918 275.562125)scale(0.11 -0.11)\">\r\n       <use transform=\"translate(0 0.99375)\" xlink:href=\"#ArialMT-49\"/>\r\n       <use transform=\"translate(55.615234 0.99375)\" xlink:href=\"#ArialMT-48\"/>\r\n       <use transform=\"translate(112.972813 70.6875)scale(0.7)\" xlink:href=\"#ArialMT-51\"/>\r\n      </g>\r\n     </g>\r\n    </g>\r\n    <g id=\"xtick_3\">\r\n     <g id=\"line2d_3\">\r\n      <path clip-path=\"url(#p97453970d7)\" d=\"M 385.546077 254.718375 \r\nL 385.546077 37.278375 \r\n\" style=\"fill:none;stroke:#ffffff;stroke-linecap:round;\"/>\r\n     </g>\r\n     <g id=\"text_3\">\r\n      <!-- $\\mathdefault{10^{4}}$ -->\r\n      <defs>\r\n       <path d=\"M 32.328125 0 \r\nL 32.328125 17.140625 \r\nL 1.265625 17.140625 \r\nL 1.265625 25.203125 \r\nL 33.9375 71.578125 \r\nL 41.109375 71.578125 \r\nL 41.109375 25.203125 \r\nL 50.78125 25.203125 \r\nL 50.78125 17.140625 \r\nL 41.109375 17.140625 \r\nL 41.109375 0 \r\nz\r\nM 32.328125 25.203125 \r\nL 32.328125 57.46875 \r\nL 9.90625 25.203125 \r\nz\r\n\" id=\"ArialMT-52\"/>\r\n      </defs>\r\n      <g style=\"fill:#262626;\" transform=\"translate(376.911077 275.452125)scale(0.11 -0.11)\">\r\n       <use transform=\"translate(0 0.201563)\" xlink:href=\"#ArialMT-49\"/>\r\n       <use transform=\"translate(55.615234 0.201563)\" xlink:href=\"#ArialMT-48\"/>\r\n       <use transform=\"translate(112.972813 69.895313)scale(0.7)\" xlink:href=\"#ArialMT-52\"/>\r\n      </g>\r\n     </g>\r\n    </g>\r\n    <g id=\"xtick_4\"/>\r\n    <g id=\"xtick_5\"/>\r\n    <g id=\"xtick_6\"/>\r\n    <g id=\"xtick_7\"/>\r\n    <g id=\"xtick_8\"/>\r\n    <g id=\"xtick_9\"/>\r\n    <g id=\"xtick_10\"/>\r\n    <g id=\"xtick_11\"/>\r\n    <g id=\"xtick_12\"/>\r\n    <g id=\"xtick_13\"/>\r\n    <g id=\"xtick_14\"/>\r\n    <g id=\"xtick_15\"/>\r\n    <g id=\"xtick_16\"/>\r\n    <g id=\"xtick_17\"/>\r\n    <g id=\"xtick_18\"/>\r\n    <g id=\"xtick_19\"/>\r\n    <g id=\"xtick_20\"/>\r\n    <g id=\"xtick_21\"/>\r\n    <g id=\"xtick_22\"/>\r\n    <g id=\"xtick_23\"/>\r\n    <g id=\"text_4\">\r\n     <!-- width -->\r\n     <defs>\r\n      <path d=\"M 16.15625 0 \r\nL 0.296875 51.859375 \r\nL 9.375 51.859375 \r\nL 17.625 21.921875 \r\nL 20.703125 10.796875 \r\nQ 20.90625 11.625 23.390625 21.484375 \r\nL 31.640625 51.859375 \r\nL 40.671875 51.859375 \r\nL 48.4375 21.78125 \r\nL 51.03125 11.859375 \r\nL 54 21.875 \r\nL 62.890625 51.859375 \r\nL 71.4375 51.859375 \r\nL 55.21875 0 \r\nL 46.09375 0 \r\nL 37.84375 31.0625 \r\nL 35.84375 39.890625 \r\nL 25.34375 0 \r\nz\r\n\" id=\"ArialMT-119\"/>\r\n      <path d=\"M 6.640625 61.46875 \r\nL 6.640625 71.578125 \r\nL 15.4375 71.578125 \r\nL 15.4375 61.46875 \r\nz\r\nM 6.640625 0 \r\nL 6.640625 51.859375 \r\nL 15.4375 51.859375 \r\nL 15.4375 0 \r\nz\r\n\" id=\"ArialMT-105\"/>\r\n      <path d=\"M 40.234375 0 \r\nL 40.234375 6.546875 \r\nQ 35.296875 -1.171875 25.734375 -1.171875 \r\nQ 19.53125 -1.171875 14.328125 2.25 \r\nQ 9.125 5.671875 6.265625 11.796875 \r\nQ 3.421875 17.921875 3.421875 25.875 \r\nQ 3.421875 33.640625 6 39.96875 \r\nQ 8.59375 46.296875 13.765625 49.65625 \r\nQ 18.953125 53.03125 25.34375 53.03125 \r\nQ 30.03125 53.03125 33.6875 51.046875 \r\nQ 37.359375 49.078125 39.65625 45.90625 \r\nL 39.65625 71.578125 \r\nL 48.390625 71.578125 \r\nL 48.390625 0 \r\nz\r\nM 12.453125 25.875 \r\nQ 12.453125 15.921875 16.640625 10.984375 \r\nQ 20.84375 6.0625 26.5625 6.0625 \r\nQ 32.328125 6.0625 36.34375 10.765625 \r\nQ 40.375 15.484375 40.375 25.140625 \r\nQ 40.375 35.796875 36.265625 40.765625 \r\nQ 32.171875 45.75 26.171875 45.75 \r\nQ 20.3125 45.75 16.375 40.96875 \r\nQ 12.453125 36.1875 12.453125 25.875 \r\nz\r\n\" id=\"ArialMT-100\"/>\r\n      <path d=\"M 25.78125 7.859375 \r\nL 27.046875 0.09375 \r\nQ 23.34375 -0.6875 20.40625 -0.6875 \r\nQ 15.625 -0.6875 12.984375 0.828125 \r\nQ 10.359375 2.34375 9.28125 4.8125 \r\nQ 8.203125 7.28125 8.203125 15.1875 \r\nL 8.203125 45.015625 \r\nL 1.765625 45.015625 \r\nL 1.765625 51.859375 \r\nL 8.203125 51.859375 \r\nL 8.203125 64.703125 \r\nL 16.9375 69.96875 \r\nL 16.9375 51.859375 \r\nL 25.78125 51.859375 \r\nL 25.78125 45.015625 \r\nL 16.9375 45.015625 \r\nL 16.9375 14.703125 \r\nQ 16.9375 10.9375 17.40625 9.859375 \r\nQ 17.875 8.796875 18.921875 8.15625 \r\nQ 19.96875 7.515625 21.921875 7.515625 \r\nQ 23.390625 7.515625 25.78125 7.859375 \r\nz\r\n\" id=\"ArialMT-116\"/>\r\n      <path d=\"M 6.59375 0 \r\nL 6.59375 71.578125 \r\nL 15.375 71.578125 \r\nL 15.375 45.90625 \r\nQ 21.53125 53.03125 30.90625 53.03125 \r\nQ 36.671875 53.03125 40.921875 50.75 \r\nQ 45.171875 48.484375 47 44.484375 \r\nQ 48.828125 40.484375 48.828125 32.859375 \r\nL 48.828125 0 \r\nL 40.046875 0 \r\nL 40.046875 32.859375 \r\nQ 40.046875 39.453125 37.1875 42.453125 \r\nQ 34.328125 45.453125 29.109375 45.453125 \r\nQ 25.203125 45.453125 21.75 43.421875 \r\nQ 18.3125 41.40625 16.84375 37.9375 \r\nQ 15.375 34.46875 15.375 28.375 \r\nL 15.375 0 \r\nz\r\n\" id=\"ArialMT-104\"/>\r\n     </defs>\r\n     <g style=\"fill:#262626;\" transform=\"translate(206.848125 290.33775)scale(0.12 -0.12)\">\r\n      <use xlink:href=\"#ArialMT-119\"/>\r\n      <use x=\"72.216797\" xlink:href=\"#ArialMT-105\"/>\r\n      <use x=\"94.433594\" xlink:href=\"#ArialMT-100\"/>\r\n      <use x=\"150.048828\" xlink:href=\"#ArialMT-116\"/>\r\n      <use x=\"177.832031\" xlink:href=\"#ArialMT-104\"/>\r\n     </g>\r\n    </g>\r\n   </g>\r\n   <g id=\"matplotlib.axis_2\">\r\n    <g id=\"ytick_1\">\r\n     <g id=\"line2d_4\">\r\n      <path clip-path=\"url(#p97453970d7)\" d=\"M 53.454375 250.589321 \r\nL 388.254375 250.589321 \r\n\" style=\"fill:none;stroke:#ffffff;stroke-linecap:round;\"/>\r\n     </g>\r\n     <g id=\"text_5\">\r\n      <!-- $\\mathdefault{10^{-2}}$ -->\r\n      <defs>\r\n       <path d=\"M 52.828125 31.203125 \r\nL 5.5625 31.203125 \r\nL 5.5625 39.40625 \r\nL 52.828125 39.40625 \r\nz\r\n\" id=\"ArialMT-8722\"/>\r\n      </defs>\r\n      <g style=\"fill:#262626;\" transform=\"translate(22.174375 256.261196)scale(0.11 -0.11)\">\r\n       <use transform=\"translate(0 0.99375)\" xlink:href=\"#ArialMT-49\"/>\r\n       <use transform=\"translate(55.615234 0.99375)\" xlink:href=\"#ArialMT-48\"/>\r\n       <use transform=\"translate(112.972813 70.6875)scale(0.7)\" xlink:href=\"#ArialMT-8722\"/>\r\n       <use transform=\"translate(153.851719 70.6875)scale(0.7)\" xlink:href=\"#ArialMT-50\"/>\r\n      </g>\r\n     </g>\r\n    </g>\r\n    <g id=\"ytick_2\">\r\n     <g id=\"line2d_5\">\r\n      <path clip-path=\"url(#p97453970d7)\" d=\"M 53.454375 117.704469 \r\nL 388.254375 117.704469 \r\n\" style=\"fill:none;stroke:#ffffff;stroke-linecap:round;\"/>\r\n     </g>\r\n     <g id=\"text_6\">\r\n      <!-- $\\mathdefault{10^{-1}}$ -->\r\n      <g style=\"fill:#262626;\" transform=\"translate(22.174375 123.376344)scale(0.11 -0.11)\">\r\n       <use transform=\"translate(0 0.99375)\" xlink:href=\"#ArialMT-49\"/>\r\n       <use transform=\"translate(55.615234 0.99375)\" xlink:href=\"#ArialMT-48\"/>\r\n       <use transform=\"translate(112.972813 70.6875)scale(0.7)\" xlink:href=\"#ArialMT-8722\"/>\r\n       <use transform=\"translate(153.851719 70.6875)scale(0.7)\" xlink:href=\"#ArialMT-49\"/>\r\n      </g>\r\n     </g>\r\n    </g>\r\n    <g id=\"ytick_3\"/>\r\n    <g id=\"ytick_4\"/>\r\n    <g id=\"ytick_5\"/>\r\n    <g id=\"ytick_6\"/>\r\n    <g id=\"ytick_7\"/>\r\n    <g id=\"ytick_8\"/>\r\n    <g id=\"ytick_9\"/>\r\n    <g id=\"ytick_10\"/>\r\n    <g id=\"ytick_11\"/>\r\n    <g id=\"ytick_12\"/>\r\n    <g id=\"ytick_13\"/>\r\n    <g id=\"text_7\">\r\n     <!-- Relative Frob. Norm -->\r\n     <defs>\r\n      <path d=\"M 7.859375 0 \r\nL 7.859375 71.578125 \r\nL 39.59375 71.578125 \r\nQ 49.171875 71.578125 54.140625 69.640625 \r\nQ 59.125 67.71875 62.109375 62.828125 \r\nQ 65.09375 57.953125 65.09375 52.046875 \r\nQ 65.09375 44.4375 60.15625 39.203125 \r\nQ 55.21875 33.984375 44.921875 32.5625 \r\nQ 48.6875 30.765625 50.640625 29 \r\nQ 54.78125 25.203125 58.5 19.484375 \r\nL 70.953125 0 \r\nL 59.03125 0 \r\nL 49.5625 14.890625 \r\nQ 45.40625 21.34375 42.71875 24.75 \r\nQ 40.046875 28.171875 37.921875 29.53125 \r\nQ 35.796875 30.90625 33.59375 31.453125 \r\nQ 31.984375 31.78125 28.328125 31.78125 \r\nL 17.328125 31.78125 \r\nL 17.328125 0 \r\nz\r\nM 17.328125 39.984375 \r\nL 37.703125 39.984375 \r\nQ 44.1875 39.984375 47.84375 41.328125 \r\nQ 51.515625 42.671875 53.421875 45.625 \r\nQ 55.328125 48.578125 55.328125 52.046875 \r\nQ 55.328125 57.125 51.640625 60.390625 \r\nQ 47.953125 63.671875 39.984375 63.671875 \r\nL 17.328125 63.671875 \r\nz\r\n\" id=\"ArialMT-82\"/>\r\n      <path d=\"M 42.09375 16.703125 \r\nL 51.171875 15.578125 \r\nQ 49.03125 7.625 43.21875 3.21875 \r\nQ 37.40625 -1.171875 28.375 -1.171875 \r\nQ 17 -1.171875 10.328125 5.828125 \r\nQ 3.65625 12.84375 3.65625 25.484375 \r\nQ 3.65625 38.578125 10.390625 45.796875 \r\nQ 17.140625 53.03125 27.875 53.03125 \r\nQ 38.28125 53.03125 44.875 45.953125 \r\nQ 51.46875 38.875 51.46875 26.03125 \r\nQ 51.46875 25.25 51.421875 23.6875 \r\nL 12.75 23.6875 \r\nQ 13.234375 15.140625 17.578125 10.59375 \r\nQ 21.921875 6.0625 28.421875 6.0625 \r\nQ 33.25 6.0625 36.671875 8.59375 \r\nQ 40.09375 11.140625 42.09375 16.703125 \r\nz\r\nM 13.234375 30.90625 \r\nL 42.1875 30.90625 \r\nQ 41.609375 37.453125 38.875 40.71875 \r\nQ 34.671875 45.796875 27.984375 45.796875 \r\nQ 21.921875 45.796875 17.796875 41.75 \r\nQ 13.671875 37.703125 13.234375 30.90625 \r\nz\r\n\" id=\"ArialMT-101\"/>\r\n      <path d=\"M 6.390625 0 \r\nL 6.390625 71.578125 \r\nL 15.1875 71.578125 \r\nL 15.1875 0 \r\nz\r\n\" id=\"ArialMT-108\"/>\r\n      <path d=\"M 40.4375 6.390625 \r\nQ 35.546875 2.25 31.03125 0.53125 \r\nQ 26.515625 -1.171875 21.34375 -1.171875 \r\nQ 12.796875 -1.171875 8.203125 3 \r\nQ 3.609375 7.171875 3.609375 13.671875 \r\nQ 3.609375 17.484375 5.34375 20.625 \r\nQ 7.078125 23.78125 9.890625 25.6875 \r\nQ 12.703125 27.59375 16.21875 28.5625 \r\nQ 18.796875 29.25 24.03125 29.890625 \r\nQ 34.671875 31.15625 39.703125 32.90625 \r\nQ 39.75 34.71875 39.75 35.203125 \r\nQ 39.75 40.578125 37.25 42.78125 \r\nQ 33.890625 45.75 27.25 45.75 \r\nQ 21.046875 45.75 18.09375 43.578125 \r\nQ 15.140625 41.40625 13.71875 35.890625 \r\nL 5.125 37.0625 \r\nQ 6.296875 42.578125 8.984375 45.96875 \r\nQ 11.671875 49.359375 16.75 51.1875 \r\nQ 21.828125 53.03125 28.515625 53.03125 \r\nQ 35.15625 53.03125 39.296875 51.46875 \r\nQ 43.453125 49.90625 45.40625 47.53125 \r\nQ 47.359375 45.171875 48.140625 41.546875 \r\nQ 48.578125 39.3125 48.578125 33.453125 \r\nL 48.578125 21.734375 \r\nQ 48.578125 9.46875 49.140625 6.21875 \r\nQ 49.703125 2.984375 51.375 0 \r\nL 42.1875 0 \r\nQ 40.828125 2.734375 40.4375 6.390625 \r\nz\r\nM 39.703125 26.03125 \r\nQ 34.90625 24.078125 25.34375 22.703125 \r\nQ 19.921875 21.921875 17.671875 20.9375 \r\nQ 15.4375 19.96875 14.203125 18.09375 \r\nQ 12.984375 16.21875 12.984375 13.921875 \r\nQ 12.984375 10.40625 15.640625 8.0625 \r\nQ 18.3125 5.71875 23.4375 5.71875 \r\nQ 28.515625 5.71875 32.46875 7.9375 \r\nQ 36.421875 10.15625 38.28125 14.015625 \r\nQ 39.703125 17 39.703125 22.796875 \r\nz\r\n\" id=\"ArialMT-97\"/>\r\n      <path d=\"M 21 0 \r\nL 1.265625 51.859375 \r\nL 10.546875 51.859375 \r\nL 21.6875 20.796875 \r\nQ 23.484375 15.765625 25 10.359375 \r\nQ 26.171875 14.453125 28.265625 20.21875 \r\nL 39.796875 51.859375 \r\nL 48.828125 51.859375 \r\nL 29.203125 0 \r\nz\r\n\" id=\"ArialMT-118\"/>\r\n      <path id=\"ArialMT-32\"/>\r\n      <path d=\"M 8.203125 0 \r\nL 8.203125 71.578125 \r\nL 56.5 71.578125 \r\nL 56.5 63.140625 \r\nL 17.671875 63.140625 \r\nL 17.671875 40.96875 \r\nL 51.265625 40.96875 \r\nL 51.265625 32.515625 \r\nL 17.671875 32.515625 \r\nL 17.671875 0 \r\nz\r\n\" id=\"ArialMT-70\"/>\r\n      <path d=\"M 6.5 0 \r\nL 6.5 51.859375 \r\nL 14.40625 51.859375 \r\nL 14.40625 44 \r\nQ 17.4375 49.515625 20 51.265625 \r\nQ 22.5625 53.03125 25.640625 53.03125 \r\nQ 30.078125 53.03125 34.671875 50.203125 \r\nL 31.640625 42.046875 \r\nQ 28.421875 43.953125 25.203125 43.953125 \r\nQ 22.3125 43.953125 20.015625 42.21875 \r\nQ 17.71875 40.484375 16.75 37.40625 \r\nQ 15.28125 32.71875 15.28125 27.15625 \r\nL 15.28125 0 \r\nz\r\n\" id=\"ArialMT-114\"/>\r\n      <path d=\"M 3.328125 25.921875 \r\nQ 3.328125 40.328125 11.328125 47.265625 \r\nQ 18.015625 53.03125 27.640625 53.03125 \r\nQ 38.328125 53.03125 45.109375 46.015625 \r\nQ 51.90625 39.015625 51.90625 26.65625 \r\nQ 51.90625 16.65625 48.90625 10.90625 \r\nQ 45.90625 5.171875 40.15625 2 \r\nQ 34.421875 -1.171875 27.640625 -1.171875 \r\nQ 16.75 -1.171875 10.03125 5.8125 \r\nQ 3.328125 12.796875 3.328125 25.921875 \r\nz\r\nM 12.359375 25.921875 \r\nQ 12.359375 15.96875 16.703125 11.015625 \r\nQ 21.046875 6.0625 27.640625 6.0625 \r\nQ 34.1875 6.0625 38.53125 11.03125 \r\nQ 42.875 16.015625 42.875 26.21875 \r\nQ 42.875 35.84375 38.5 40.796875 \r\nQ 34.125 45.75 27.640625 45.75 \r\nQ 21.046875 45.75 16.703125 40.8125 \r\nQ 12.359375 35.890625 12.359375 25.921875 \r\nz\r\n\" id=\"ArialMT-111\"/>\r\n      <path d=\"M 14.703125 0 \r\nL 6.546875 0 \r\nL 6.546875 71.578125 \r\nL 15.328125 71.578125 \r\nL 15.328125 46.046875 \r\nQ 20.90625 53.03125 29.546875 53.03125 \r\nQ 34.328125 53.03125 38.59375 51.09375 \r\nQ 42.875 49.171875 45.625 45.671875 \r\nQ 48.390625 42.1875 49.953125 37.25 \r\nQ 51.515625 32.328125 51.515625 26.703125 \r\nQ 51.515625 13.375 44.921875 6.09375 \r\nQ 38.328125 -1.171875 29.109375 -1.171875 \r\nQ 19.921875 -1.171875 14.703125 6.5 \r\nz\r\nM 14.59375 26.3125 \r\nQ 14.59375 17 17.140625 12.84375 \r\nQ 21.296875 6.0625 28.375 6.0625 \r\nQ 34.125 6.0625 38.328125 11.0625 \r\nQ 42.53125 16.0625 42.53125 25.984375 \r\nQ 42.53125 36.140625 38.5 40.96875 \r\nQ 34.46875 45.796875 28.765625 45.796875 \r\nQ 23 45.796875 18.796875 40.796875 \r\nQ 14.59375 35.796875 14.59375 26.3125 \r\nz\r\n\" id=\"ArialMT-98\"/>\r\n      <path d=\"M 9.078125 0 \r\nL 9.078125 10.015625 \r\nL 19.09375 10.015625 \r\nL 19.09375 0 \r\nz\r\n\" id=\"ArialMT-46\"/>\r\n      <path d=\"M 7.625 0 \r\nL 7.625 71.578125 \r\nL 17.328125 71.578125 \r\nL 54.9375 15.375 \r\nL 54.9375 71.578125 \r\nL 64.015625 71.578125 \r\nL 64.015625 0 \r\nL 54.296875 0 \r\nL 16.703125 56.25 \r\nL 16.703125 0 \r\nz\r\n\" id=\"ArialMT-78\"/>\r\n      <path d=\"M 6.59375 0 \r\nL 6.59375 51.859375 \r\nL 14.453125 51.859375 \r\nL 14.453125 44.578125 \r\nQ 16.890625 48.390625 20.9375 50.703125 \r\nQ 25 53.03125 30.171875 53.03125 \r\nQ 35.9375 53.03125 39.625 50.640625 \r\nQ 43.3125 48.25 44.828125 43.953125 \r\nQ 50.984375 53.03125 60.84375 53.03125 \r\nQ 68.5625 53.03125 72.703125 48.75 \r\nQ 76.859375 44.484375 76.859375 35.59375 \r\nL 76.859375 0 \r\nL 68.109375 0 \r\nL 68.109375 32.671875 \r\nQ 68.109375 37.9375 67.25 40.25 \r\nQ 66.40625 42.578125 64.15625 43.984375 \r\nQ 61.921875 45.40625 58.890625 45.40625 \r\nQ 53.421875 45.40625 49.796875 41.765625 \r\nQ 46.1875 38.140625 46.1875 30.125 \r\nL 46.1875 0 \r\nL 37.40625 0 \r\nL 37.40625 33.6875 \r\nQ 37.40625 39.546875 35.25 42.46875 \r\nQ 33.109375 45.40625 28.21875 45.40625 \r\nQ 24.515625 45.40625 21.359375 43.453125 \r\nQ 18.21875 41.5 16.796875 37.734375 \r\nQ 15.375 33.984375 15.375 26.90625 \r\nL 15.375 0 \r\nz\r\n\" id=\"ArialMT-109\"/>\r\n     </defs>\r\n     <g style=\"fill:#262626;\" transform=\"translate(15.789375 199.675875)rotate(-90)scale(0.12 -0.12)\">\r\n      <use xlink:href=\"#ArialMT-82\"/>\r\n      <use x=\"72.216797\" xlink:href=\"#ArialMT-101\"/>\r\n      <use x=\"127.832031\" xlink:href=\"#ArialMT-108\"/>\r\n      <use x=\"150.048828\" xlink:href=\"#ArialMT-97\"/>\r\n      <use x=\"205.664062\" xlink:href=\"#ArialMT-116\"/>\r\n      <use x=\"233.447266\" xlink:href=\"#ArialMT-105\"/>\r\n      <use x=\"255.664062\" xlink:href=\"#ArialMT-118\"/>\r\n      <use x=\"305.664062\" xlink:href=\"#ArialMT-101\"/>\r\n      <use x=\"361.279297\" xlink:href=\"#ArialMT-32\"/>\r\n      <use x=\"389.0625\" xlink:href=\"#ArialMT-70\"/>\r\n      <use x=\"450.146484\" xlink:href=\"#ArialMT-114\"/>\r\n      <use x=\"483.447266\" xlink:href=\"#ArialMT-111\"/>\r\n      <use x=\"539.0625\" xlink:href=\"#ArialMT-98\"/>\r\n      <use x=\"594.677734\" xlink:href=\"#ArialMT-46\"/>\r\n      <use x=\"622.460938\" xlink:href=\"#ArialMT-32\"/>\r\n      <use x=\"650.244141\" xlink:href=\"#ArialMT-78\"/>\r\n      <use x=\"722.460938\" xlink:href=\"#ArialMT-111\"/>\r\n      <use x=\"778.076172\" xlink:href=\"#ArialMT-114\"/>\r\n      <use x=\"811.376953\" xlink:href=\"#ArialMT-109\"/>\r\n     </g>\r\n    </g>\r\n   </g>\r\n   <g id=\"PolyCollection_1\">\r\n    <defs>\r\n     <path d=\"M 68.672557 -252.760739 \r\nL 68.672557 -239.138541 \r\nL 112.153076 -222.073855 \r\nL 155.633596 -210.043544 \r\nL 199.114115 -188.74494 \r\nL 242.594635 -179.780381 \r\nL 286.075154 -173.027631 \r\nL 329.555674 -170.035213 \r\nL 373.036193 -173.069529 \r\nL 373.036193 -178.333599 \r\nL 373.036193 -178.333599 \r\nL 329.555674 -177.348653 \r\nL 286.075154 -181.407032 \r\nL 242.594635 -189.755818 \r\nL 199.114115 -199.176078 \r\nL 155.633596 -221.876937 \r\nL 112.153076 -234.025494 \r\nL 68.672557 -252.760739 \r\nz\r\n\" id=\"m97fb650056\" style=\"stroke:#4c72b0;stroke-opacity:0.2;\"/>\r\n    </defs>\r\n    <g clip-path=\"url(#p97453970d7)\">\r\n     <use style=\"fill:#4c72b0;fill-opacity:0.2;stroke:#4c72b0;stroke-opacity:0.2;\" x=\"0\" xlink:href=\"#m97fb650056\" y=\"299.92275\"/>\r\n    </g>\r\n   </g>\r\n   <g id=\"line2d_6\">\r\n    <path clip-path=\"url(#p97453970d7)\" d=\"M 68.672557 53.688333 \r\nL 112.153076 71.59263 \r\nL 155.633596 83.819459 \r\nL 199.114115 105.699627 \r\nL 242.594635 114.908967 \r\nL 286.075154 122.731778 \r\nL 329.555674 126.143724 \r\nL 373.036193 124.185454 \r\n\" style=\"fill:none;stroke:#4c72b0;stroke-linecap:round;stroke-width:1.5;\"/>\r\n   </g>\r\n   <g id=\"line2d_7\">\r\n    <path clip-path=\"url(#p97453970d7)\" d=\"M 68.672557 104.826596 \r\nL 112.153076 124.827759 \r\nL 155.633596 144.828923 \r\nL 199.114115 164.830086 \r\nL 242.594635 184.831249 \r\nL 286.075154 204.832412 \r\nL 329.555674 224.833575 \r\nL 373.036193 244.834739 \r\n\" style=\"fill:none;stroke:#dd8452;stroke-dasharray:5.55,2.4;stroke-dashoffset:0;stroke-width:1.5;\"/>\r\n   </g>\r\n   <g id=\"patch_3\">\r\n    <path d=\"M 53.454375 254.718375 \r\nL 53.454375 37.278375 \r\n\" style=\"fill:none;stroke:#ffffff;stroke-linecap:square;stroke-linejoin:miter;stroke-width:1.25;\"/>\r\n   </g>\r\n   <g id=\"patch_4\">\r\n    <path d=\"M 388.254375 254.718375 \r\nL 388.254375 37.278375 \r\n\" style=\"fill:none;stroke:#ffffff;stroke-linecap:square;stroke-linejoin:miter;stroke-width:1.25;\"/>\r\n   </g>\r\n   <g id=\"patch_5\">\r\n    <path d=\"M 53.454375 254.718375 \r\nL 388.254375 254.718375 \r\n\" style=\"fill:none;stroke:#ffffff;stroke-linecap:square;stroke-linejoin:miter;stroke-width:1.25;\"/>\r\n   </g>\r\n   <g id=\"patch_6\">\r\n    <path d=\"M 53.454375 37.278375 \r\nL 388.254375 37.278375 \r\n\" style=\"fill:none;stroke:#ffffff;stroke-linecap:square;stroke-linejoin:miter;stroke-width:1.25;\"/>\r\n   </g>\r\n   <g id=\"text_8\">\r\n    <!-- Bidirectional RNN NTK -->\r\n    <defs>\r\n     <path d=\"M 7.328125 0 \r\nL 7.328125 71.578125 \r\nL 34.1875 71.578125 \r\nQ 42.390625 71.578125 47.34375 69.40625 \r\nQ 52.296875 67.234375 55.09375 62.71875 \r\nQ 57.90625 58.203125 57.90625 53.265625 \r\nQ 57.90625 48.6875 55.421875 44.625 \r\nQ 52.9375 40.578125 47.90625 38.09375 \r\nQ 54.390625 36.1875 57.875 31.59375 \r\nQ 61.375 27 61.375 20.75 \r\nQ 61.375 15.71875 59.25 11.390625 \r\nQ 57.125 7.078125 54 4.734375 \r\nQ 50.875 2.390625 46.15625 1.1875 \r\nQ 41.453125 0 34.625 0 \r\nz\r\nM 16.796875 41.5 \r\nL 32.28125 41.5 \r\nQ 38.578125 41.5 41.3125 42.328125 \r\nQ 44.921875 43.40625 46.75 45.890625 \r\nQ 48.578125 48.390625 48.578125 52.15625 \r\nQ 48.578125 55.71875 46.875 58.421875 \r\nQ 45.171875 61.140625 41.984375 62.140625 \r\nQ 38.8125 63.140625 31.109375 63.140625 \r\nL 16.796875 63.140625 \r\nz\r\nM 16.796875 8.453125 \r\nL 34.625 8.453125 \r\nQ 39.203125 8.453125 41.0625 8.796875 \r\nQ 44.34375 9.375 46.53125 10.734375 \r\nQ 48.734375 12.109375 50.140625 14.71875 \r\nQ 51.5625 17.328125 51.5625 20.75 \r\nQ 51.5625 24.75 49.515625 27.703125 \r\nQ 47.46875 30.671875 43.828125 31.859375 \r\nQ 40.1875 33.0625 33.34375 33.0625 \r\nL 16.796875 33.0625 \r\nz\r\n\" id=\"ArialMT-66\"/>\r\n     <path d=\"M 40.4375 19 \r\nL 49.078125 17.875 \r\nQ 47.65625 8.9375 41.8125 3.875 \r\nQ 35.984375 -1.171875 27.484375 -1.171875 \r\nQ 16.84375 -1.171875 10.375 5.78125 \r\nQ 3.90625 12.75 3.90625 25.734375 \r\nQ 3.90625 34.125 6.6875 40.421875 \r\nQ 9.46875 46.734375 15.15625 49.875 \r\nQ 20.84375 53.03125 27.546875 53.03125 \r\nQ 35.984375 53.03125 41.359375 48.75 \r\nQ 46.734375 44.484375 48.25 36.625 \r\nL 39.703125 35.296875 \r\nQ 38.484375 40.53125 35.375 43.15625 \r\nQ 32.28125 45.796875 27.875 45.796875 \r\nQ 21.234375 45.796875 17.078125 41.03125 \r\nQ 12.9375 36.28125 12.9375 25.984375 \r\nQ 12.9375 15.53125 16.9375 10.796875 \r\nQ 20.953125 6.0625 27.390625 6.0625 \r\nQ 32.5625 6.0625 36.03125 9.234375 \r\nQ 39.5 12.40625 40.4375 19 \r\nz\r\n\" id=\"ArialMT-99\"/>\r\n     <path d=\"M 6.59375 0 \r\nL 6.59375 51.859375 \r\nL 14.5 51.859375 \r\nL 14.5 44.484375 \r\nQ 20.21875 53.03125 31 53.03125 \r\nQ 35.6875 53.03125 39.625 51.34375 \r\nQ 43.5625 49.65625 45.515625 46.921875 \r\nQ 47.46875 44.1875 48.25 40.4375 \r\nQ 48.734375 37.984375 48.734375 31.890625 \r\nL 48.734375 0 \r\nL 39.9375 0 \r\nL 39.9375 31.546875 \r\nQ 39.9375 36.921875 38.90625 39.578125 \r\nQ 37.890625 42.234375 35.28125 43.8125 \r\nQ 32.671875 45.40625 29.15625 45.40625 \r\nQ 23.53125 45.40625 19.453125 41.84375 \r\nQ 15.375 38.28125 15.375 28.328125 \r\nL 15.375 0 \r\nz\r\n\" id=\"ArialMT-110\"/>\r\n     <path d=\"M 25.921875 0 \r\nL 25.921875 63.140625 \r\nL 2.34375 63.140625 \r\nL 2.34375 71.578125 \r\nL 59.078125 71.578125 \r\nL 59.078125 63.140625 \r\nL 35.40625 63.140625 \r\nL 35.40625 0 \r\nz\r\n\" id=\"ArialMT-84\"/>\r\n     <path d=\"M 7.328125 0 \r\nL 7.328125 71.578125 \r\nL 16.796875 71.578125 \r\nL 16.796875 36.078125 \r\nL 52.34375 71.578125 \r\nL 65.1875 71.578125 \r\nL 35.15625 42.578125 \r\nL 66.5 0 \r\nL 54 0 \r\nL 28.515625 36.234375 \r\nL 16.796875 24.8125 \r\nL 16.796875 0 \r\nz\r\n\" id=\"ArialMT-75\"/>\r\n    </defs>\r\n    <g style=\"fill:#262626;\" transform=\"translate(159.839063 15.789375)scale(0.12 -0.12)\">\r\n     <use xlink:href=\"#ArialMT-66\"/>\r\n     <use x=\"66.699219\" xlink:href=\"#ArialMT-105\"/>\r\n     <use x=\"88.916016\" xlink:href=\"#ArialMT-100\"/>\r\n     <use x=\"144.53125\" xlink:href=\"#ArialMT-105\"/>\r\n     <use x=\"166.748047\" xlink:href=\"#ArialMT-114\"/>\r\n     <use x=\"200.048828\" xlink:href=\"#ArialMT-101\"/>\r\n     <use x=\"255.664062\" xlink:href=\"#ArialMT-99\"/>\r\n     <use x=\"305.664062\" xlink:href=\"#ArialMT-116\"/>\r\n     <use x=\"333.447266\" xlink:href=\"#ArialMT-105\"/>\r\n     <use x=\"355.664062\" xlink:href=\"#ArialMT-111\"/>\r\n     <use x=\"411.279297\" xlink:href=\"#ArialMT-110\"/>\r\n     <use x=\"466.894531\" xlink:href=\"#ArialMT-97\"/>\r\n     <use x=\"522.509766\" xlink:href=\"#ArialMT-108\"/>\r\n     <use x=\"544.726562\" xlink:href=\"#ArialMT-32\"/>\r\n     <use x=\"572.509766\" xlink:href=\"#ArialMT-82\"/>\r\n     <use x=\"644.726562\" xlink:href=\"#ArialMT-78\"/>\r\n     <use x=\"716.943359\" xlink:href=\"#ArialMT-78\"/>\r\n     <use x=\"789.160156\" xlink:href=\"#ArialMT-32\"/>\r\n     <use x=\"816.943359\" xlink:href=\"#ArialMT-78\"/>\r\n     <use x=\"889.160156\" xlink:href=\"#ArialMT-84\"/>\r\n     <use x=\"950.244141\" xlink:href=\"#ArialMT-75\"/>\r\n    </g>\r\n    <!-- Deviation from theory drops like $width^{-1/2}$ -->\r\n    <defs>\r\n     <path d=\"M 7.71875 0 \r\nL 7.71875 71.578125 \r\nL 32.375 71.578125 \r\nQ 40.71875 71.578125 45.125 70.5625 \r\nQ 51.265625 69.140625 55.609375 65.4375 \r\nQ 61.28125 60.640625 64.078125 53.1875 \r\nQ 66.890625 45.75 66.890625 36.1875 \r\nQ 66.890625 28.03125 64.984375 21.734375 \r\nQ 63.09375 15.4375 60.109375 11.296875 \r\nQ 57.125 7.171875 53.578125 4.796875 \r\nQ 50.046875 2.4375 45.046875 1.21875 \r\nQ 40.046875 0 33.546875 0 \r\nz\r\nM 17.1875 8.453125 \r\nL 32.46875 8.453125 \r\nQ 39.546875 8.453125 43.578125 9.765625 \r\nQ 47.609375 11.078125 50 13.484375 \r\nQ 53.375 16.84375 55.25 22.53125 \r\nQ 57.125 28.21875 57.125 36.328125 \r\nQ 57.125 47.5625 53.4375 53.59375 \r\nQ 49.75 59.625 44.484375 61.671875 \r\nQ 40.671875 63.140625 32.234375 63.140625 \r\nL 17.1875 63.140625 \r\nz\r\n\" id=\"ArialMT-68\"/>\r\n     <path d=\"M 8.6875 0 \r\nL 8.6875 45.015625 \r\nL 0.921875 45.015625 \r\nL 0.921875 51.859375 \r\nL 8.6875 51.859375 \r\nL 8.6875 57.375 \r\nQ 8.6875 62.59375 9.625 65.140625 \r\nQ 10.890625 68.5625 14.078125 70.671875 \r\nQ 17.28125 72.796875 23.046875 72.796875 \r\nQ 26.765625 72.796875 31.25 71.921875 \r\nL 29.9375 64.265625 \r\nQ 27.203125 64.75 24.75 64.75 \r\nQ 20.75 64.75 19.09375 63.03125 \r\nQ 17.4375 61.328125 17.4375 56.640625 \r\nL 17.4375 51.859375 \r\nL 27.546875 51.859375 \r\nL 27.546875 45.015625 \r\nL 17.4375 45.015625 \r\nL 17.4375 0 \r\nz\r\n\" id=\"ArialMT-102\"/>\r\n     <path d=\"M 6.203125 -19.96875 \r\nL 5.21875 -11.71875 \r\nQ 8.109375 -12.5 10.25 -12.5 \r\nQ 13.1875 -12.5 14.9375 -11.515625 \r\nQ 16.703125 -10.546875 17.828125 -8.796875 \r\nQ 18.65625 -7.46875 20.515625 -2.25 \r\nQ 20.75 -1.515625 21.296875 -0.09375 \r\nL 1.609375 51.859375 \r\nL 11.078125 51.859375 \r\nL 21.875 21.828125 \r\nQ 23.96875 16.109375 25.640625 9.8125 \r\nQ 27.15625 15.875 29.25 21.625 \r\nL 40.328125 51.859375 \r\nL 49.125 51.859375 \r\nL 29.390625 -0.875 \r\nQ 26.21875 -9.421875 24.46875 -12.640625 \r\nQ 22.125 -17 19.09375 -19.015625 \r\nQ 16.0625 -21.046875 11.859375 -21.046875 \r\nQ 9.328125 -21.046875 6.203125 -19.96875 \r\nz\r\n\" id=\"ArialMT-121\"/>\r\n     <path d=\"M 6.59375 -19.875 \r\nL 6.59375 51.859375 \r\nL 14.59375 51.859375 \r\nL 14.59375 45.125 \r\nQ 17.4375 49.078125 21 51.046875 \r\nQ 24.5625 53.03125 29.640625 53.03125 \r\nQ 36.28125 53.03125 41.359375 49.609375 \r\nQ 46.4375 46.1875 49.015625 39.953125 \r\nQ 51.609375 33.734375 51.609375 26.3125 \r\nQ 51.609375 18.359375 48.75 11.984375 \r\nQ 45.90625 5.609375 40.453125 2.21875 \r\nQ 35.015625 -1.171875 29 -1.171875 \r\nQ 24.609375 -1.171875 21.109375 0.6875 \r\nQ 17.625 2.546875 15.375 5.375 \r\nL 15.375 -19.875 \r\nz\r\nM 14.546875 25.640625 \r\nQ 14.546875 15.625 18.59375 10.84375 \r\nQ 22.65625 6.0625 28.421875 6.0625 \r\nQ 34.28125 6.0625 38.453125 11.015625 \r\nQ 42.625 15.96875 42.625 26.375 \r\nQ 42.625 36.28125 38.546875 41.203125 \r\nQ 34.46875 46.140625 28.8125 46.140625 \r\nQ 23.1875 46.140625 18.859375 40.890625 \r\nQ 14.546875 35.640625 14.546875 25.640625 \r\nz\r\n\" id=\"ArialMT-112\"/>\r\n     <path d=\"M 3.078125 15.484375 \r\nL 11.765625 16.84375 \r\nQ 12.5 11.625 15.84375 8.84375 \r\nQ 19.1875 6.0625 25.203125 6.0625 \r\nQ 31.25 6.0625 34.171875 8.515625 \r\nQ 37.109375 10.984375 37.109375 14.3125 \r\nQ 37.109375 17.28125 34.515625 19 \r\nQ 32.71875 20.171875 25.53125 21.96875 \r\nQ 15.875 24.421875 12.140625 26.203125 \r\nQ 8.40625 27.984375 6.46875 31.125 \r\nQ 4.546875 34.28125 4.546875 38.09375 \r\nQ 4.546875 41.546875 6.125 44.5 \r\nQ 7.71875 47.46875 10.453125 49.421875 \r\nQ 12.5 50.921875 16.03125 51.96875 \r\nQ 19.578125 53.03125 23.640625 53.03125 \r\nQ 29.734375 53.03125 34.34375 51.265625 \r\nQ 38.96875 49.515625 41.15625 46.5 \r\nQ 43.359375 43.5 44.1875 38.484375 \r\nL 35.59375 37.3125 \r\nQ 35.015625 41.3125 32.203125 43.546875 \r\nQ 29.390625 45.796875 24.265625 45.796875 \r\nQ 18.21875 45.796875 15.625 43.796875 \r\nQ 13.03125 41.796875 13.03125 39.109375 \r\nQ 13.03125 37.40625 14.109375 36.03125 \r\nQ 15.1875 34.625 17.484375 33.6875 \r\nQ 18.796875 33.203125 25.25 31.453125 \r\nQ 34.578125 28.953125 38.25 27.359375 \r\nQ 41.9375 25.78125 44.03125 22.75 \r\nQ 46.140625 19.734375 46.140625 15.234375 \r\nQ 46.140625 10.84375 43.578125 6.953125 \r\nQ 41.015625 3.078125 36.171875 0.953125 \r\nQ 31.34375 -1.171875 25.25 -1.171875 \r\nQ 15.140625 -1.171875 9.84375 3.03125 \r\nQ 4.546875 7.234375 3.078125 15.484375 \r\nz\r\n\" id=\"ArialMT-115\"/>\r\n     <path d=\"M 6.640625 0 \r\nL 6.640625 71.578125 \r\nL 15.4375 71.578125 \r\nL 15.4375 30.765625 \r\nL 36.234375 51.859375 \r\nL 47.609375 51.859375 \r\nL 27.78125 32.625 \r\nL 49.609375 0 \r\nL 38.765625 0 \r\nL 21.625 26.515625 \r\nL 15.4375 20.5625 \r\nL 15.4375 0 \r\nz\r\n\" id=\"ArialMT-107\"/>\r\n     <path d=\"M 8.5 54.6875 \r\nL 17.390625 54.6875 \r\nL 19.671875 10.6875 \r\nL 40.09375 54.6875 \r\nL 50.484375 54.6875 \r\nL 53.515625 10.6875 \r\nL 72.90625 54.6875 \r\nL 81.890625 54.6875 \r\nL 56.890625 0 \r\nL 46.390625 0 \r\nL 43.703125 45.3125 \r\nL 22.796875 0 \r\nL 12.203125 0 \r\nz\r\n\" id=\"DejaVuSans-Oblique-119\"/>\r\n     <path d=\"M 18.3125 75.984375 \r\nL 27.296875 75.984375 \r\nL 25.09375 64.59375 \r\nL 16.109375 64.59375 \r\nz\r\nM 14.203125 54.6875 \r\nL 23.1875 54.6875 \r\nL 12.5 0 \r\nL 3.515625 0 \r\nz\r\n\" id=\"DejaVuSans-Oblique-105\"/>\r\n     <path d=\"M 41.796875 8.203125 \r\nQ 38.1875 3.46875 33.25 1.015625 \r\nQ 28.328125 -1.421875 22.3125 -1.421875 \r\nQ 14.109375 -1.421875 9.34375 4.171875 \r\nQ 4.59375 9.765625 4.59375 19.484375 \r\nQ 4.59375 27.59375 7.46875 34.9375 \r\nQ 10.359375 42.28125 15.828125 48.09375 \r\nQ 19.4375 51.953125 23.96875 53.96875 \r\nQ 28.515625 56 33.5 56 \r\nQ 38.765625 56 42.796875 53.453125 \r\nQ 46.828125 50.921875 49.03125 46.1875 \r\nL 54.890625 75.984375 \r\nL 63.921875 75.984375 \r\nL 49.125 0 \r\nL 40.09375 0 \r\nz\r\nM 13.921875 21.09375 \r\nQ 13.921875 14.015625 17.109375 10.0625 \r\nQ 20.3125 6.109375 25.984375 6.109375 \r\nQ 30.171875 6.109375 33.765625 8.125 \r\nQ 37.359375 10.15625 40.09375 14.109375 \r\nQ 42.96875 18.21875 44.625 23.578125 \r\nQ 46.296875 28.953125 46.296875 34.1875 \r\nQ 46.296875 40.96875 43.09375 44.765625 \r\nQ 39.890625 48.578125 34.28125 48.578125 \r\nQ 30.03125 48.578125 26.359375 46.578125 \r\nQ 22.703125 44.578125 20.125 40.828125 \r\nQ 17.28125 36.765625 15.59375 31.390625 \r\nQ 13.921875 26.03125 13.921875 21.09375 \r\nz\r\n\" id=\"DejaVuSans-Oblique-100\"/>\r\n     <path d=\"M 42.28125 54.6875 \r\nL 40.921875 47.703125 \r\nL 23 47.703125 \r\nL 17.1875 18.015625 \r\nQ 16.890625 16.359375 16.75 15.234375 \r\nQ 16.609375 14.109375 16.609375 13.484375 \r\nQ 16.609375 10.359375 18.484375 8.9375 \r\nQ 20.359375 7.515625 24.515625 7.515625 \r\nL 33.59375 7.515625 \r\nL 32.078125 0 \r\nL 23.484375 0 \r\nQ 15.484375 0 11.546875 3.125 \r\nQ 7.625 6.25 7.625 12.59375 \r\nQ 7.625 13.71875 7.765625 15.0625 \r\nQ 7.90625 16.40625 8.203125 18.015625 \r\nL 14.015625 47.703125 \r\nL 6.390625 47.703125 \r\nL 7.8125 54.6875 \r\nL 15.28125 54.6875 \r\nL 18.3125 70.21875 \r\nL 27.296875 70.21875 \r\nL 24.3125 54.6875 \r\nz\r\n\" id=\"DejaVuSans-Oblique-116\"/>\r\n     <path d=\"M 55.71875 33.015625 \r\nL 49.3125 0 \r\nL 40.28125 0 \r\nL 46.6875 32.671875 \r\nQ 47.125 34.96875 47.359375 36.71875 \r\nQ 47.609375 38.484375 47.609375 39.5 \r\nQ 47.609375 43.609375 45.015625 45.890625 \r\nQ 42.4375 48.1875 37.796875 48.1875 \r\nQ 30.5625 48.1875 25.265625 43.296875 \r\nQ 19.96875 38.421875 18.40625 30.328125 \r\nL 12.5 0 \r\nL 3.515625 0 \r\nL 18.3125 75.984375 \r\nL 27.296875 75.984375 \r\nL 21.484375 46.09375 \r\nQ 24.90625 50.6875 30.21875 53.34375 \r\nQ 35.546875 56 41.40625 56 \r\nQ 48.640625 56 52.609375 52.09375 \r\nQ 56.59375 48.1875 56.59375 41.109375 \r\nQ 56.59375 39.359375 56.375 37.359375 \r\nQ 56.15625 35.359375 55.71875 33.015625 \r\nz\r\n\" id=\"DejaVuSans-Oblique-104\"/>\r\n     <path d=\"M 10.59375 35.5 \r\nL 73.1875 35.5 \r\nL 73.1875 27.203125 \r\nL 10.59375 27.203125 \r\nz\r\n\" id=\"DejaVuSans-8722\"/>\r\n     <path d=\"M 12.40625 8.296875 \r\nL 28.515625 8.296875 \r\nL 28.515625 63.921875 \r\nL 10.984375 60.40625 \r\nL 10.984375 69.390625 \r\nL 28.421875 72.90625 \r\nL 38.28125 72.90625 \r\nL 38.28125 8.296875 \r\nL 54.390625 8.296875 \r\nL 54.390625 0 \r\nL 12.40625 0 \r\nz\r\n\" id=\"DejaVuSans-49\"/>\r\n     <path d=\"M 25.390625 72.90625 \r\nL 33.6875 72.90625 \r\nL 8.296875 -9.28125 \r\nL 0 -9.28125 \r\nz\r\n\" id=\"DejaVuSans-47\"/>\r\n     <path d=\"M 19.1875 8.296875 \r\nL 53.609375 8.296875 \r\nL 53.609375 0 \r\nL 7.328125 0 \r\nL 7.328125 8.296875 \r\nQ 12.9375 14.109375 22.625 23.890625 \r\nQ 32.328125 33.6875 34.8125 36.53125 \r\nQ 39.546875 41.84375 41.421875 45.53125 \r\nQ 43.3125 49.21875 43.3125 52.78125 \r\nQ 43.3125 58.59375 39.234375 62.25 \r\nQ 35.15625 65.921875 28.609375 65.921875 \r\nQ 23.96875 65.921875 18.8125 64.3125 \r\nQ 13.671875 62.703125 7.8125 59.421875 \r\nL 7.8125 69.390625 \r\nQ 13.765625 71.78125 18.9375 73 \r\nQ 24.125 74.21875 28.421875 74.21875 \r\nQ 39.75 74.21875 46.484375 68.546875 \r\nQ 53.21875 62.890625 53.21875 53.421875 \r\nQ 53.21875 48.921875 51.53125 44.890625 \r\nQ 49.859375 40.875 45.40625 35.40625 \r\nQ 44.1875 33.984375 37.640625 27.21875 \r\nQ 31.109375 20.453125 19.1875 8.296875 \r\nz\r\n\" id=\"DejaVuSans-50\"/>\r\n    </defs>\r\n    <g style=\"fill:#262626;\" transform=\"translate(107.514375 31.278375)scale(0.12 -0.12)\">\r\n     <use transform=\"translate(0 0.765625)\" xlink:href=\"#ArialMT-68\"/>\r\n     <use transform=\"translate(72.216797 0.765625)\" xlink:href=\"#ArialMT-101\"/>\r\n     <use transform=\"translate(127.832031 0.765625)\" xlink:href=\"#ArialMT-118\"/>\r\n     <use transform=\"translate(177.832031 0.765625)\" xlink:href=\"#ArialMT-105\"/>\r\n     <use transform=\"translate(200.048828 0.765625)\" xlink:href=\"#ArialMT-97\"/>\r\n     <use transform=\"translate(255.664062 0.765625)\" xlink:href=\"#ArialMT-116\"/>\r\n     <use transform=\"translate(283.447266 0.765625)\" xlink:href=\"#ArialMT-105\"/>\r\n     <use transform=\"translate(305.664062 0.765625)\" xlink:href=\"#ArialMT-111\"/>\r\n     <use transform=\"translate(361.279297 0.765625)\" xlink:href=\"#ArialMT-110\"/>\r\n     <use transform=\"translate(416.894531 0.765625)\" xlink:href=\"#ArialMT-32\"/>\r\n     <use transform=\"translate(444.677734 0.765625)\" xlink:href=\"#ArialMT-102\"/>\r\n     <use transform=\"translate(472.460938 0.765625)\" xlink:href=\"#ArialMT-114\"/>\r\n     <use transform=\"translate(505.761719 0.765625)\" xlink:href=\"#ArialMT-111\"/>\r\n     <use transform=\"translate(561.376953 0.765625)\" xlink:href=\"#ArialMT-109\"/>\r\n     <use transform=\"translate(644.677734 0.765625)\" xlink:href=\"#ArialMT-32\"/>\r\n     <use transform=\"translate(672.460938 0.765625)\" xlink:href=\"#ArialMT-116\"/>\r\n     <use transform=\"translate(700.244141 0.765625)\" xlink:href=\"#ArialMT-104\"/>\r\n     <use transform=\"translate(755.859375 0.765625)\" xlink:href=\"#ArialMT-101\"/>\r\n     <use transform=\"translate(811.474609 0.765625)\" xlink:href=\"#ArialMT-111\"/>\r\n     <use transform=\"translate(867.089844 0.765625)\" xlink:href=\"#ArialMT-114\"/>\r\n     <use transform=\"translate(900.390625 0.765625)\" xlink:href=\"#ArialMT-121\"/>\r\n     <use transform=\"translate(950.390625 0.765625)\" xlink:href=\"#ArialMT-32\"/>\r\n     <use transform=\"translate(978.173828 0.765625)\" xlink:href=\"#ArialMT-100\"/>\r\n     <use transform=\"translate(1033.789062 0.765625)\" xlink:href=\"#ArialMT-114\"/>\r\n     <use transform=\"translate(1067.089844 0.765625)\" xlink:href=\"#ArialMT-111\"/>\r\n     <use transform=\"translate(1122.705078 0.765625)\" xlink:href=\"#ArialMT-112\"/>\r\n     <use transform=\"translate(1178.320312 0.765625)\" xlink:href=\"#ArialMT-115\"/>\r\n     <use transform=\"translate(1228.320312 0.765625)\" xlink:href=\"#ArialMT-32\"/>\r\n     <use transform=\"translate(1256.103516 0.765625)\" xlink:href=\"#ArialMT-108\"/>\r\n     <use transform=\"translate(1278.320312 0.765625)\" xlink:href=\"#ArialMT-105\"/>\r\n     <use transform=\"translate(1300.537109 0.765625)\" xlink:href=\"#ArialMT-107\"/>\r\n     <use transform=\"translate(1350.537109 0.765625)\" xlink:href=\"#ArialMT-101\"/>\r\n     <use transform=\"translate(1406.152344 0.765625)\" xlink:href=\"#ArialMT-32\"/>\r\n     <use transform=\"translate(1433.935547 0.765625)\" xlink:href=\"#DejaVuSans-Oblique-119\"/>\r\n     <use transform=\"translate(1515.722656 0.765625)\" xlink:href=\"#DejaVuSans-Oblique-105\"/>\r\n     <use transform=\"translate(1543.505859 0.765625)\" xlink:href=\"#DejaVuSans-Oblique-100\"/>\r\n     <use transform=\"translate(1606.982422 0.765625)\" xlink:href=\"#DejaVuSans-Oblique-116\"/>\r\n     <use transform=\"translate(1646.191406 0.765625)\" xlink:href=\"#DejaVuSans-Oblique-104\"/>\r\n     <use transform=\"translate(1717.018021 39.046875)scale(0.7)\" xlink:href=\"#DejaVuSans-8722\"/>\r\n     <use transform=\"translate(1775.670365 39.046875)scale(0.7)\" xlink:href=\"#DejaVuSans-49\"/>\r\n     <use transform=\"translate(1820.206497 39.046875)scale(0.7)\" xlink:href=\"#DejaVuSans-47\"/>\r\n     <use transform=\"translate(1841.252982 39.046875)scale(0.7)\" xlink:href=\"#DejaVuSans-50\"/>\r\n    </g>\r\n   </g>\r\n   <g id=\"legend_1\">\r\n    <g id=\"patch_7\">\r\n     <path d=\"M 295.304375 61.808375 \r\nL 380.554375 61.808375 \r\nQ 382.754375 61.808375 382.754375 59.608375 \r\nL 382.754375 44.978375 \r\nQ 382.754375 42.778375 380.554375 42.778375 \r\nL 295.304375 42.778375 \r\nQ 293.104375 42.778375 293.104375 44.978375 \r\nL 293.104375 59.608375 \r\nQ 293.104375 61.808375 295.304375 61.808375 \r\nz\r\n\" style=\"fill:#eaeaf2;opacity:0.8;stroke:#cccccc;stroke-linejoin:miter;\"/>\r\n    </g>\r\n    <g id=\"line2d_8\">\r\n     <path d=\"M 297.504375 51.372125 \r\nL 319.504375 51.372125 \r\n\" style=\"fill:none;stroke:#dd8452;stroke-dasharray:5.55,2.4;stroke-dashoffset:0;stroke-width:1.5;\"/>\r\n    </g>\r\n    <g id=\"line2d_9\"/>\r\n    <g id=\"text_9\">\r\n     <!-- ${width}^{-1/2}$ -->\r\n     <g style=\"fill:#262626;\" transform=\"translate(328.304375 55.222125)scale(0.11 -0.11)\">\r\n      <use transform=\"translate(0 0.765625)\" xlink:href=\"#DejaVuSans-Oblique-119\"/>\r\n      <use transform=\"translate(81.787109 0.765625)\" xlink:href=\"#DejaVuSans-Oblique-105\"/>\r\n      <use transform=\"translate(109.570312 0.765625)\" xlink:href=\"#DejaVuSans-Oblique-100\"/>\r\n      <use transform=\"translate(173.046875 0.765625)\" xlink:href=\"#DejaVuSans-Oblique-116\"/>\r\n      <use transform=\"translate(212.255859 0.765625)\" xlink:href=\"#DejaVuSans-Oblique-104\"/>\r\n      <use transform=\"translate(283.082474 39.046875)scale(0.7)\" xlink:href=\"#DejaVuSans-8722\"/>\r\n      <use transform=\"translate(341.734818 39.046875)scale(0.7)\" xlink:href=\"#DejaVuSans-49\"/>\r\n      <use transform=\"translate(386.270951 39.046875)scale(0.7)\" xlink:href=\"#DejaVuSans-47\"/>\r\n      <use transform=\"translate(407.317435 39.046875)scale(0.7)\" xlink:href=\"#DejaVuSans-50\"/>\r\n     </g>\r\n    </g>\r\n   </g>\r\n  </g>\r\n </g>\r\n <defs>\r\n  <clipPath id=\"p97453970d7\">\r\n   <rect height=\"217.44\" width=\"334.8\" x=\"53.454375\" y=\"37.278375\"/>\r\n  </clipPath>\r\n </defs>\r\n</svg>\r\n",
      "image/png": "[encoded data removed]"
     },
     "metadata": {}
    }
   ],
   "source": [
    "sns.lineplot(data=frob_df, x='width', y='relfrob')\n",
    "widths = frob_df.width.unique()\n",
    "plt.plot(widths, np.array(widths, dtype='float')**-0.5, '--', label=u'${width}^{-1/2}$')\n",
    "plt.ylabel(u'Relative Frob. Norm')\n",
    "plt.loglog()\n",
    "plt.legend()\n",
    "_ = plt.title(u'Bidirectional RNN NTK\\nDeviation from theory drops like $width^{-1/2}$')"
   ]
  },
  {
   "cell_type": "code",
   "execution_count": 402,
   "metadata": {
    "ExecuteTime": {
     "end_time": "2020-06-17T21:05:32.099698Z",
     "start_time": "2020-06-17T21:05:32.094391Z"
    },
    "hidden": true
   },
   "outputs": [],
   "source": [
    "frob_df.to_pickle('birnn_ap_ntk.frob')"
   ]
  }
 ],
 "metadata": {
  "kernelspec": {
   "display_name": "Python 3.8.3 64-bit ('netsor': conda)",
   "language": "python",
   "name": "python38364bitnetsorconda90413646b69740418857320fb86a86c0"
  },
  "language_info": {
   "codemirror_mode": {
    "name": "ipython",
    "version": 3
   },
   "file_extension": ".py",
   "mimetype": "text/x-python",
   "name": "python",
   "nbconvert_exporter": "python",
   "pygments_lexer": "ipython3",
   "version": "3.8.3-final"
  }
 },
 "nbformat": 4,
 "nbformat_minor": 4
}